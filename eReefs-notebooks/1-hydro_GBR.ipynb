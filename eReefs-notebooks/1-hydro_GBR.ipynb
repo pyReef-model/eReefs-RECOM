{
 "cells": [
  {
   "cell_type": "markdown",
   "metadata": {
    "slideshow": {
     "slide_type": "slide"
    }
   },
   "source": [
    "<img src=\"figs/im1.png\">\n",
    "\n",
    "# eReefs hydrodynamics all GBR"
   ]
  },
  {
   "cell_type": "markdown",
   "metadata": {
    "slideshow": {
     "slide_type": "slide"
    }
   },
   "source": [
    "## Load the required Python libraries\n",
    "\n",
    "First of all, load the necessary libraries."
   ]
  },
  {
   "cell_type": "code",
   "execution_count": null,
   "metadata": {
    "slideshow": {
     "slide_type": "-"
    }
   },
   "outputs": [],
   "source": [
    "import os\n",
    "import numpy as np\n",
    "\n",
    "import datetime as dt\n",
    "\n",
    "import netCDF4\n",
    "from netCDF4 import Dataset, num2date\n",
    "\n",
    "from pylab import *\n",
    "import matplotlib.ticker as mticker\n",
    "import matplotlib.tri as triangle \n",
    "from matplotlib import pyplot as plt, animation\n",
    "\n",
    "import cartopy.crs as ccrs\n",
    "import cartopy.feature as cfeature\n",
    "from cartopy.mpl.gridliner import LONGITUDE_FORMATTER, LATITUDE_FORMATTER\n",
    "\n",
    "import cmocean\n",
    "\n",
    "import cartopy\n",
    "import cartopy.crs as ccrs\n",
    "cartopy.config['data_dir'] = os.getenv('CARTOPY_DIR', cartopy.config.get('data_dir'))\n",
    "\n",
    "from IPython.display import HTML, display\n",
    "\n",
    "# display plots in SVG format\n",
    "%config InlineBackend.figure_format = 'svg'\n",
    "%matplotlib inline"
   ]
  },
  {
   "cell_type": "markdown",
   "metadata": {
    "slideshow": {
     "slide_type": "slide"
    }
   },
   "source": [
    "## Define which data to be plotted.\n",
    "\n",
    "In this section we define which data we want to read and plot.\n",
    "\n",
    "- **inputFile**\n",
    "  The netCDF input file. This can either be a downloaded file (see [How to manually download derived data from THREDDS](http://ereefs.aims.local/ereefs-aims/help/how-to-manually-download-derived-data)) or a  OPeNDAP URL from the [AIMS THREDDS server](http://thredds.ereefs.aims.gov.au/thredds/catalog.html). For this tutorial we are using the OPeNDAP URL.\n",
    "- **selectedVariable**\n",
    "  The name of the variable in the netCDF file.\n",
    "- **selectedTimeIndex**\n",
    "  The time slice in the netCDF file. Note the index starts with 0. For example, in the netCDF file, the time steps are \"days\". This means if you select `selectedTimeIndex=1` it refers to the second day in the netCDF file.\n",
    "- **selectedDepthIndex**\n",
    "  The depth slice in the netCDF file. Note the index starts with 0. See the following table for a mapping of index to value:"
   ]
  },
  {
   "cell_type": "markdown",
   "metadata": {
    "slideshow": {
     "slide_type": "subslide"
    }
   },
   "source": [
    "\n",
    "| Index (k) | Hydrodynamic 1km model | Hydrodynamic and BioGeoChemical 4km model |\n",
    "| -: | -: | -: |\n",
    "| 0 | -140.00 m | -145.00 m |\n",
    "| 1 | -120.00 m | -120.00 m |\n",
    "| 2 | -103.00 m | -103.00 m |\n",
    "| 3 | -88.00 m | -88.00 m |\n",
    "| 4 | -73.00 m | -73.00 m |\n",
    "| 5 | -60.00 m | -60.00 m |\n",
    "| 6 | -49.00 m | -49.00 m |\n",
    "| 7 | -39.50 m |-39.50 m |\n",
    "| 8 | -31.00 m | -31.00 m |\n",
    "| 9 | -24.00 m | -23.75 m |\n",
    "| 10 | -18.00 m | -17.75 m |\n",
    "| 11 | -13.00 m | -12.75 m |\n",
    "| 12 | -9.00 m | -8.80 m |\n",
    "| 13 | -5.25 m | -5.55 m |\n",
    "| 14 | -2.35 m | -3.00 m |\n",
    "| 15 | -0.50 m | -1.50 m |\n",
    "| 16 | n/a | -0.50 m |"
   ]
  },
  {
   "cell_type": "markdown",
   "metadata": {
    "slideshow": {
     "slide_type": "slide"
    }
   },
   "source": [
    "# Connect to the OpeNDAP endpoint for a specified month. \n",
    "\n",
    "We query the server based on the OPeNDAP URL for a specific file \"EREEFS_AIMS-CSIRO_gbr4_v2_hydro_daily-monthly-YYYY-MM.nc\". \n",
    "\n",
    "\n",
    "- **gbr4**: we use the Hydrodynamic 4km model and daily data for the month specified"
   ]
  },
  {
   "cell_type": "code",
   "execution_count": null,
   "metadata": {},
   "outputs": [],
   "source": [
    "month = 3\n",
    "year = 2020\n",
    "\n",
    "netCDF_datestr = str(year)+'-'+format(month, '02')\n",
    "print('File chosen time interval:',netCDF_datestr)\n",
    "\n",
    "# GBR4\n",
    "inputFile = \"http://thredds.ereefs.aims.gov.au/thredds/dodsC/s3://aims-ereefs-public-prod/derived/ncaggregate/ereefs/gbr4_v2/daily-monthly/EREEFS_AIMS-CSIRO_gbr4_v2_hydro_daily-monthly-\"+netCDF_datestr+\".nc\"\n",
    "\n",
    "#GBR1\n",
    "#inputFile = \"http://thredds.ereefs.aims.gov.au/thredds/dodsC/s3://aims-ereefs-public-prod/derived/ncaggregate/ereefs/gbr1_2.0/monthly-monthly/EREEFS_AIMS-CSIRO_gbr1_2.0_hydro_monthly-monthly-\"+netCDF_datestr+\".nc\""
   ]
  },
  {
   "cell_type": "markdown",
   "metadata": {},
   "source": [
    "We now load the dataset within the Jupyter environment..."
   ]
  },
  {
   "cell_type": "code",
   "execution_count": null,
   "metadata": {},
   "outputs": [],
   "source": [
    "nc_data = Dataset(inputFile, 'r')\n",
    "\n",
    "print('Get the list of variable in the file:')\n",
    "print(list(nc_data.variables.keys()))\n",
    "\n",
    "ncdata = nc_data.variables"
   ]
  },
  {
   "cell_type": "markdown",
   "metadata": {
    "slideshow": {
     "slide_type": "subslide"
    }
   },
   "source": [
    "To get information for a specific variables, we can use the following:"
   ]
  },
  {
   "cell_type": "code",
   "execution_count": null,
   "metadata": {},
   "outputs": [],
   "source": [
    "ncdata['mean_cur']"
   ]
  },
  {
   "cell_type": "code",
   "execution_count": null,
   "metadata": {},
   "outputs": [],
   "source": [
    "ncdata['mean_cur'].standard_name"
   ]
  },
  {
   "cell_type": "code",
   "execution_count": null,
   "metadata": {},
   "outputs": [],
   "source": [
    "ncdata['mean_cur'].units"
   ]
  },
  {
   "cell_type": "markdown",
   "metadata": {
    "slideshow": {
     "slide_type": "slide"
    }
   },
   "source": [
    "# Load variables\n",
    "\n",
    "We then load the file dataset in Jupyter"
   ]
  },
  {
   "cell_type": "code",
   "execution_count": null,
   "metadata": {},
   "outputs": [],
   "source": [
    "# Starting with the spatial domain\n",
    "lat = ncdata['latitude'][:].filled(fill_value=0.)\n",
    "lon = ncdata['longitude'][:].filled(fill_value=0.)\n",
    "\n",
    "print('eReefs model spatial extent:\\n')\n",
    "print(' - Longitudinal extent:',lon.min(),lon.max())\n",
    "print(' - Latitudinal extent:',lat.min(),lat.max())"
   ]
  },
  {
   "cell_type": "code",
   "execution_count": null,
   "metadata": {},
   "outputs": [],
   "source": [
    "# Get time span of the dataset\n",
    "time_var = ncdata['time']\n",
    "\n",
    "# Starting time\n",
    "dtime = netCDF4.num2date(time_var[0],time_var.units)\n",
    "daystr = dtime.strftime('%Y-%b-%d %H:%M')\n",
    "print(' - start time: ',daystr,'\\n')\n",
    "\n",
    "# Ending time\n",
    "dtime = netCDF4.num2date(time_var[-1],time_var.units)\n",
    "daystr = dtime.strftime('%Y-%b-%d %H:%M')\n",
    "print(' - end time: ',daystr,'\\n')\n",
    "\n",
    "ntime = len(time_var)\n",
    "\n",
    "print(' - Number of time steps',ntime,'\\n')"
   ]
  },
  {
   "cell_type": "code",
   "execution_count": null,
   "metadata": {
    "slideshow": {
     "slide_type": "subslide"
    }
   },
   "outputs": [],
   "source": [
    "# Number of vetical points along the z-coordinate model\n",
    "zc = ncdata['zc'][:].filled(fill_value=0.)\n",
    "nlay = len(zc)\n",
    "\n",
    "print('Number of vertical layers',nlay)\n",
    "\n",
    "for k in range(nlay):\n",
    "    print(f'  + vertical layer {k} is at {zc[k]} m')"
   ]
  },
  {
   "cell_type": "markdown",
   "metadata": {
    "slideshow": {
     "slide_type": "slide"
    }
   },
   "source": [
    "# Meshing dataset for visualisation\n",
    "\n",
    "To be able to visualise the variables on a map we first have to use the longitude and latidude values to mesh. \n",
    "\n",
    "Here we will build a triangular grid based on the Dataset coordinates (using the *triangle.Triangulation* from the **Matplotlib** library)."
   ]
  },
  {
   "cell_type": "code",
   "execution_count": null,
   "metadata": {},
   "outputs": [],
   "source": [
    "if len(lat.flatten()) == len(lon.flatten()):\n",
    "    meshtri = triangle.Triangulation(lon.flatten(),lat.flatten())\n",
    "else:\n",
    "    loni, lati = np.meshgrid(lon, lat)\n",
    "    lonlati = np.dstack([loni.flatten(), lati.flatten()])[0]\n",
    "    meshtri = triangle.Triangulation(loni.flatten(),lati.flatten())"
   ]
  },
  {
   "cell_type": "markdown",
   "metadata": {},
   "source": [
    "Now we will use the function **eReefs_GBR_Model** below to plot the different variables at specific time step and depth."
   ]
  },
  {
   "cell_type": "code",
   "execution_count": null,
   "metadata": {
    "slideshow": {
     "slide_type": "subslide"
    }
   },
   "outputs": [],
   "source": [
    "def eReefs_GBR_Model(tstep, depth, dataname, datalvl, color, \n",
    "                     size, fname, vecsample, veclenght, \n",
    "                     show=False, vecPlot=False):\n",
    "    \n",
    "    '''\n",
    "    This function plots for a specified time index and depth the value of a variable from the eReefs netCDF\n",
    "    file.\n",
    "    \n",
    "    args:\n",
    "    - tstep: specified time index\n",
    "    - depth: specified depth layer\n",
    "    - dataname: specified variable name \n",
    "    - datalvl: range of the variable values specified as a list [min,max] \n",
    "    - color: colormap to use for the plot (here one can use the cmocean library: https://matplotlib.org/cmocean/#installation)\n",
    "    - size: figure size  \n",
    "    - fname: figure name when saved on disk, it is worth noting that the specified time index and depth layer will be automatically added\n",
    "    - vecsample: sampling on velocity arrows to plot on the maps when velocity verctor are used\n",
    "    - veclenght: lenght of the reference vector (in m/s)\n",
    "    - show: set to True when the map is shown in the jupyter environment directly \n",
    "    - vecPlot: set to True when the current flow vector are plotted\n",
    "    '''\n",
    "    \n",
    "    cmap = color\n",
    "    cmap.set_over('0')\n",
    "    cmap.set_under(cmap(0))\n",
    "\n",
    "    # Get data\n",
    "    data = ncdata[dataname][tstep, depth, :,:]\n",
    "    data[np.isnan(data)] = 1000\n",
    "    levels = np.arange(datalvl[0],datalvl[1],0.05)\n",
    "    \n",
    "    fig = plt.figure(figsize=size, facecolor='w', edgecolor='k')\n",
    "\n",
    "    ax = plt.axes(projection=ccrs.Mercator()) #projection=ccrs.PlateCarree())\n",
    "    ax.set_extent([142.4, 157, -7, -28.6], ccrs.PlateCarree())\n",
    "    \n",
    "    cf = plt.tricontourf(meshtri, data.flatten(), \n",
    "                transform=ccrs.PlateCarree(), \n",
    "                levels=levels,\n",
    "                cmap=cmap,\n",
    "                extend='min')\n",
    "\n",
    "    # Plot velocity arrows \n",
    "    if vecPlot:\n",
    "        u = ncdata['u'][tstep, depth, :,:].filled(fill_value=0.)\n",
    "        v = ncdata['v'][tstep, depth, :,:].filled(fill_value=0.)\n",
    "        # find non zeros velocity points\n",
    "        ind = np.where(np.logical_and(data.flatten()>0,data.flatten()<1000))[0]\n",
    "        np.random.shuffle(ind)\n",
    "        Nvec = int(len(ind) / vecsample)\n",
    "        idv = ind[:Nvec]\n",
    "        Q = plt.quiver(loni.flatten()[idv],\n",
    "                       lati.flatten()[idv],\n",
    "                       u.flatten()[idv],\n",
    "                       v.flatten()[idv],\n",
    "                       transform=ccrs.PlateCarree(), \n",
    "                       scale=20)\n",
    "\n",
    "        maxstr='%3.1f m/s' % veclenght\n",
    "        qk = plt.quiverkey(Q,0.1,0.1,veclenght,maxstr,labelpos='S')\n",
    "\n",
    "\n",
    "    # Color bar\n",
    "    gca().patch.set_facecolor('1')\n",
    "    cbar = fig.colorbar(cf, ax=ax, fraction=0.027, pad=0.045, orientation=\"horizontal\")\n",
    "    cbar.set_label(ncdata[dataname].units, rotation=0, labelpad=5, fontsize=10)\n",
    "    cbar.ax.tick_params(labelsize=8)\n",
    "    \n",
    "\n",
    "    # Title\n",
    "    dtime = netCDF4.num2date(time_var[tstep],time_var.units)\n",
    "    daystr = dtime.strftime('%Y-%b-%d %H:%M')\n",
    "    plt.title(ncdata[dataname].short_name+', %s UTC+10' % (daystr), fontsize=11);\n",
    "\n",
    "    # Plot lat/lon grid \n",
    "    gl = ax.gridlines(crs=ccrs.PlateCarree(), draw_labels=True,\n",
    "                      linewidth=0.1, color='k', alpha=1, linestyle='--')\n",
    "    gl.top_labels = False\n",
    "    gl.right_labels = False\n",
    "    gl.xformatter = LONGITUDE_FORMATTER\n",
    "    gl.yformatter = LATITUDE_FORMATTER\n",
    "    gl.xlabel_style = {'size': 8}\n",
    "    gl.ylabel_style = {'size': 8} \n",
    "    \n",
    "    # Add map features\n",
    "    ax.add_feature(cfeature.NaturalEarthFeature('physical', 'land', '10m', \n",
    "                                                edgecolor='face', \n",
    "                                                facecolor='lightgray'))\n",
    "    ax.coastlines(linewidth=1)\n",
    "\n",
    "    if show:\n",
    "        plt.savefig(f\"{fname}_time{tstep:04}_zc{depth:04}.png\",dpi=300, \n",
    "                bbox_inches='tight')\n",
    "        plt.tight_layout()\n",
    "        plt.show()\n",
    "    else:\n",
    "        plt.savefig(f\"{fname}_time{tstep:04}_zc{depth:04}.png\",dpi=300, \n",
    "                bbox_inches='tight')\n",
    "\n",
    "    fig.clear()\n",
    "    plt.close(fig)\n",
    "    plt.clf()\n",
    "    \n",
    "    return"
   ]
  },
  {
   "cell_type": "markdown",
   "metadata": {
    "slideshow": {
     "slide_type": "subslide"
    }
   },
   "source": [
    "Let's use the function. First we will check for a specific time and a depth each variable range:"
   ]
  },
  {
   "cell_type": "code",
   "execution_count": null,
   "metadata": {},
   "outputs": [],
   "source": [
    "selectedTimeIndex = 29 \n",
    "selectedDepthIndex = -1 \n",
    "\n",
    "print('Mean current range: ')\n",
    "print(np.nanmin(ncdata['mean_cur'][selectedTimeIndex, selectedDepthIndex, :,:]),\n",
    "      np.nanmax(ncdata['mean_cur'][selectedTimeIndex, selectedDepthIndex, :,:]))\n",
    "\n",
    "print(' ')\n",
    "print('Temperature range: ')\n",
    "print(np.nanmin(ncdata['temp'][selectedTimeIndex, selectedDepthIndex, :,:]),\n",
    "      np.nanmax(ncdata['temp'][selectedTimeIndex, selectedDepthIndex, :,:]))\n",
    "\n",
    "print(' ')\n",
    "print('Salinity range: ')\n",
    "print(np.nanmin(ncdata['salt'][selectedTimeIndex, selectedDepthIndex, :,:]),\n",
    "      np.nanmax(ncdata['salt'][selectedTimeIndex, selectedDepthIndex, :,:]))"
   ]
  },
  {
   "cell_type": "markdown",
   "metadata": {
    "slideshow": {
     "slide_type": "subslide"
    }
   },
   "source": [
    "We will plot the mean current like this:"
   ]
  },
  {
   "cell_type": "code",
   "execution_count": null,
   "metadata": {
    "slideshow": {
     "slide_type": "-"
    }
   },
   "outputs": [],
   "source": [
    "selectedVariable = 'mean_cur' \n",
    "\n",
    "\n",
    "# Vector field mapping information\n",
    "veclenght = 1.\n",
    "vecsample = 50\n",
    "\n",
    "# Figure size\n",
    "size = (12, 8)\n",
    "\n",
    "# Used color\n",
    "color = cmocean.cm.speed\n",
    "\n",
    "# Variable range for the colorscale\n",
    "curlvl = [0.001,1.5]\n",
    "\n",
    "# Saved file name\n",
    "fname = 'GBRcurrent'\n",
    "\n",
    "\n",
    "# We now call the function\n",
    "eReefs_GBR_Model(selectedTimeIndex, selectedDepthIndex, selectedVariable, curlvl, color, size,\n",
    "             fname, vecsample, veclenght, show=True, vecPlot=True)"
   ]
  },
  {
   "cell_type": "markdown",
   "metadata": {
    "slideshow": {
     "slide_type": "subslide"
    }
   },
   "source": [
    "For the salinity dataset..."
   ]
  },
  {
   "cell_type": "code",
   "execution_count": null,
   "metadata": {},
   "outputs": [],
   "source": [
    "selectedVariable = 'salt'\n",
    "\n",
    "# Used color\n",
    "color = cmocean.cm.haline\n",
    "\n",
    "# Variable range for the colorscale\n",
    "saltlvl = [32,36]\n",
    "\n",
    "# Saved file name\n",
    "fname = 'GBRsalinity'\n",
    "\n",
    "eReefs_GBR_Model(selectedTimeIndex, selectedDepthIndex, selectedVariable, saltlvl, color, size,\n",
    "             fname, vecsample, veclenght, show=False, vecPlot=False)"
   ]
  },
  {
   "cell_type": "markdown",
   "metadata": {
    "slideshow": {
     "slide_type": "subslide"
    }
   },
   "source": [
    "For the tempreature dataset..."
   ]
  },
  {
   "cell_type": "code",
   "execution_count": null,
   "metadata": {},
   "outputs": [],
   "source": [
    "selectedVariable = 'temp'\n",
    "\n",
    "# Used color\n",
    "color = cmocean.cm.thermal\n",
    "\n",
    "# Variable range for the colorscale\n",
    "templvl = [24,31]\n",
    "\n",
    "# Saved file name\n",
    "fname = 'GBRtemperature'\n",
    "\n",
    "\n",
    "eReefs_GBR_Model(selectedTimeIndex, selectedDepthIndex, selectedVariable, templvl, color, size,\n",
    "             fname, vecsample, veclenght, show=False, vecPlot=False)"
   ]
  },
  {
   "cell_type": "code",
   "execution_count": null,
   "metadata": {},
   "outputs": [],
   "source": []
  }
 ],
 "metadata": {
  "kernelspec": {
   "display_name": "Python 3",
   "language": "python",
   "name": "python3"
  },
  "language_info": {
   "codemirror_mode": {
    "name": "ipython",
    "version": 3
   },
   "file_extension": ".py",
   "mimetype": "text/x-python",
   "name": "python",
   "nbconvert_exporter": "python",
   "pygments_lexer": "ipython3",
   "version": "3.7.3"
  }
 },
 "nbformat": 4,
 "nbformat_minor": 4
}
