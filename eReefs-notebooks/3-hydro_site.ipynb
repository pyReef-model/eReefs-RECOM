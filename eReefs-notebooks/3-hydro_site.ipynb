{
 "cells": [
  {
   "cell_type": "markdown",
   "metadata": {},
   "source": [
    "<img src=\"figs/im2.png\">\n",
    "\n",
    "# eReefs hydrodynamics for specific site\n",
    "\n",
    "Notebook designed by **Mark Hammerton** from **AIMS** "
   ]
  },
  {
   "cell_type": "code",
   "execution_count": null,
   "metadata": {},
   "outputs": [],
   "source": [
    "import os\n",
    "import numpy as np\n",
    "import pandas as pd\n",
    "\n",
    "import datetime as dt\n",
    "\n",
    "import netCDF4\n",
    "from netCDF4 import Dataset, num2date\n",
    "\n",
    "from pylab import *\n",
    "\n",
    "# display plots in SVG format\n",
    "%config InlineBackend.figure_format = 'svg'\n",
    "%matplotlib inline"
   ]
  },
  {
   "cell_type": "markdown",
   "metadata": {},
   "source": [
    "In this notebook, we use OpeNDAP to extract time series data at a single location of interest, then plot this data. This extraction process can also be done with the AIMS eReefs data extraction tool (https://extraction.ereefs.aims.gov.au/). \n",
    "\n",
    "*Note*: This script has no error checking and so changing the date ranges or locations might result in out of bounds errors."
   ]
  },
  {
   "cell_type": "markdown",
   "metadata": {},
   "source": [
    "# Connect to the OpeNDAP endpoint for a specified month. \n",
    "\n",
    "We query the server based on the OPeNDAP URL for a specific file \"EREEFS_AIMS-CSIRO_gbr4_v2_hydro_daily-monthly-YYYY-MM.nc\". \n",
    "\n",
    "\n",
    "- **gbr4**: we use the Hydrodynamic 4km model and daily data for the month specified"
   ]
  },
  {
   "cell_type": "code",
   "execution_count": null,
   "metadata": {},
   "outputs": [],
   "source": [
    "month = 3\n",
    "year = 2020\n",
    "\n",
    "netCDF_datestr = str(year)+'-'+format(month, '02')\n",
    "print('File chosen time interval:',netCDF_datestr)\n",
    "\n",
    "inputFile = \"http://thredds.ereefs.aims.gov.au/thredds/dodsC/s3://aims-ereefs-public-prod/derived/ncaggregate/ereefs/gbr4_v2/daily-monthly/EREEFS_AIMS-CSIRO_gbr4_v2_hydro_daily-monthly-\"+netCDF_datestr+\".nc\""
   ]
  },
  {
   "cell_type": "markdown",
   "metadata": {},
   "source": [
    "We now load the dataset within the Jupyter environment..."
   ]
  },
  {
   "cell_type": "code",
   "execution_count": null,
   "metadata": {},
   "outputs": [],
   "source": [
    "nc_data = Dataset(inputFile, 'r')\n",
    "\n",
    "print('Get the list of variable in the file:')\n",
    "print(list(nc_data.variables.keys()))\n",
    "\n",
    "ncdata = nc_data.variables"
   ]
  },
  {
   "cell_type": "markdown",
   "metadata": {},
   "source": [
    "To get information for a specific variables, we can use the following:"
   ]
  },
  {
   "cell_type": "code",
   "execution_count": null,
   "metadata": {},
   "outputs": [],
   "source": [
    "ncdata['mean_cur']"
   ]
  },
  {
   "cell_type": "code",
   "execution_count": null,
   "metadata": {},
   "outputs": [],
   "source": [
    "ncdata['mean_cur'].standard_name"
   ]
  },
  {
   "cell_type": "code",
   "execution_count": null,
   "metadata": {},
   "outputs": [],
   "source": [
    "ncdata['mean_cur'].units"
   ]
  },
  {
   "cell_type": "markdown",
   "metadata": {},
   "source": [
    "# Load variables\n",
    "\n",
    "We then load the file dataset in Jupyter"
   ]
  },
  {
   "cell_type": "code",
   "execution_count": null,
   "metadata": {},
   "outputs": [],
   "source": [
    "# Starting with the spatial domain\n",
    "lat = ncdata['latitude'][:].filled(fill_value=0.)\n",
    "lon = ncdata['longitude'][:].filled(fill_value=0.)\n",
    "\n",
    "print('eReefs model spatial extent:\\n')\n",
    "print(' - Longitudinal extent:',lon.min(),lon.max())\n",
    "print(' - Latitudinal extent:',lat.min(),lat.max())"
   ]
  },
  {
   "cell_type": "code",
   "execution_count": null,
   "metadata": {},
   "outputs": [],
   "source": [
    "# Get time span of the dataset\n",
    "time_var = ncdata['time']\n",
    "\n",
    "# Starting time\n",
    "dtime = netCDF4.num2date(time_var[0],time_var.units)\n",
    "daystr = dtime.strftime('%Y-%b-%d %H:%M')\n",
    "print(' - start time: ',daystr,'\\n')\n",
    "\n",
    "# Ending time\n",
    "dtime = netCDF4.num2date(time_var[-1],time_var.units)\n",
    "daystr = dtime.strftime('%Y-%b-%d %H:%M')\n",
    "print(' - end time: ',daystr,'\\n')\n",
    "\n",
    "ntime = len(time_var)\n",
    "\n",
    "print(' - Number of time steps',ntime,'\\n')"
   ]
  },
  {
   "cell_type": "code",
   "execution_count": null,
   "metadata": {},
   "outputs": [],
   "source": [
    "# Number of vetical points along the z-coordinate model\n",
    "zc = ncdata['zc'][:].filled(fill_value=0.)\n",
    "nlay = len(zc)\n",
    "\n",
    "print('Number of vertical layers',nlay)\n",
    "\n",
    "for k in range(nlay):\n",
    "    print(f'  + vertical layer {k} is at {zc[k]} m')"
   ]
  },
  {
   "cell_type": "markdown",
   "metadata": {},
   "source": [
    "# Picking the site location\n",
    "\n",
    "Find the closest index to the location of interest. Here we chose **Davies Reef**\n",
    "\n",
    "+ lat = -18.82\n",
    "+ lon = 147.64"
   ]
  },
  {
   "cell_type": "code",
   "execution_count": null,
   "metadata": {},
   "outputs": [],
   "source": [
    "site_lat = -18.82\n",
    "site_lon = 147.64\n",
    "\n",
    "def find_nearest(array, value):\n",
    "    '''\n",
    "    Find index of nearest value in a numpy array\n",
    "    '''\n",
    "    \n",
    "    array = np.asarray(array)\n",
    "    idx = (np.abs(array - value)).argmin()\n",
    "    \n",
    "    return idx\n",
    "\n",
    "\n",
    "selectedLatIndex = find_nearest(lat,site_lat)\n",
    "selectedLonIndex = find_nearest(lon,site_lon)\n",
    "\n",
    "print(\"Grid position of location: \"+str(selectedLatIndex)+\", \"+str(selectedLonIndex))"
   ]
  },
  {
   "cell_type": "markdown",
   "metadata": {},
   "source": [
    "Extract the values over time at this location. Note that because we are access the underlying data here this results in an OpeNDAP call to get the data from the remote server. As a result this call can take a while (~10 sec)."
   ]
  },
  {
   "cell_type": "code",
   "execution_count": null,
   "metadata": {},
   "outputs": [],
   "source": [
    "selectedDepthIndex = 15 # -1.5m\n",
    "selectedDepthIndex2 = 10 # -17.75m\n",
    "\n",
    "# Current\n",
    "# Time, Depth, Lat, Lon\n",
    "dailyCurr = nc_data.variables['mean_cur'][:,[selectedDepthIndex,selectedDepthIndex2], selectedLatIndex, selectedLonIndex]\n",
    "print(\"Current: \\n\",dailyTemp1[0:5])\n",
    "\n",
    "# Temperature\n",
    "# Time, Depth, Lat, Lon\n",
    "dailyTemp = nc_data.variables['temp'][:,[selectedDepthIndex,selectedDepthIndex2], selectedLatIndex, selectedLonIndex]\n",
    "print(\"Temperature: \\n\",dailyTemp1[0:5])\n",
    "\n",
    "# Salinity\n",
    "# Time, Depth, Lat, Lon\n",
    "dailySalt = nc_data.variables['salt'][:,[selectedDepthIndex,selectedDepthIndex2], selectedLatIndex, selectedLonIndex]\n",
    "print(\"\\nSalinity: \\n\",dailyTemp1[0:5])"
   ]
  },
  {
   "cell_type": "markdown",
   "metadata": {},
   "source": [
    "Let's get the wind for the same location. The wind variable doesn't have any depth dimension and so our indexing into the data is different. The wind is a vector measurement, with an x and y component."
   ]
  },
  {
   "cell_type": "code",
   "execution_count": null,
   "metadata": {},
   "outputs": [],
   "source": [
    "wspeed_v = nc_data.variables['wspeed_v'][:, selectedLatIndex, selectedLonIndex]\n",
    "wspeed_u = nc_data.variables['wspeed_u'][:, selectedLatIndex, selectedLonIndex]"
   ]
  },
  {
   "cell_type": "markdown",
   "metadata": {},
   "source": [
    "To get the wind speed we need to calculate the magnitude of this vector."
   ]
  },
  {
   "cell_type": "code",
   "execution_count": null,
   "metadata": {},
   "outputs": [],
   "source": [
    "wspeed = np.sqrt(wspeed_v**2 + wspeed_u**2)"
   ]
  },
  {
   "cell_type": "markdown",
   "metadata": {},
   "source": [
    "Get the time series. Note that the time values are stored as the number of days since 1990-01-01 00:00:00 +10. "
   ]
  },
  {
   "cell_type": "code",
   "execution_count": null,
   "metadata": {},
   "outputs": [],
   "source": [
    "times = pd.to_datetime(time_var[:],unit='D',origin=pd.Timestamp('1990-01-01'))"
   ]
  },
  {
   "cell_type": "markdown",
   "metadata": {},
   "source": [
    "## Current plot"
   ]
  },
  {
   "cell_type": "code",
   "execution_count": null,
   "metadata": {},
   "outputs": [],
   "source": [
    "fig, ax1 = plt.subplots()\n",
    "fig.set_size_inches(8, 5)\n",
    "\n",
    "ax1.set_xlabel('Recorded Time Interval')\n",
    "ax1.set_ylabel('Mean current (m/s)')\n",
    "\n",
    "ax1.plot(times[1:], dailyCurr[1:,0], color='tab:blue', lw=3, label='Depth (-1.5 m)') \n",
    "ax1.plot(times[1:], dailyCurr[1:,1], color='tab:red', lw=3, label='Depth (-17.75 m)') \n",
    "\n",
    "ax2 = ax1.twinx()  # instantiate a second axes that shares the same x-axis\n",
    "ax2.set_ylabel('Wind speed (m/s)', color='tab:purple')  # we already handled the x-label with ax1\n",
    "ax2.plot(times[1:], wspeed[1:], lw=3, color='tab:purple', label='Wind', ls = '--')\n",
    "ax2.tick_params(axis='y', labelcolor='tab:purple')\n",
    "\n",
    "fig.legend(loc='upper right', bbox_to_anchor=(0.91, 0.91))\n",
    "plt.title('Davies Reef mean current stratification with depth for March 2020',fontsize=11)\n",
    "plt.gcf().autofmt_xdate()\n",
    "fig.tight_layout()\n",
    "\n",
    "plt.savefig(\"CurrDavieReef.png\",dpi=300)\n",
    "plt.show()\n",
    "fig.clear()\n",
    "plt.close(fig)\n",
    "plt.clf()"
   ]
  },
  {
   "cell_type": "markdown",
   "metadata": {},
   "source": [
    "## Temperature plot\n",
    "\n",
    "Plotting the temperature and wind profiles for the month of March is done like this:"
   ]
  },
  {
   "cell_type": "code",
   "execution_count": null,
   "metadata": {},
   "outputs": [],
   "source": [
    "fig, ax1 = plt.subplots()\n",
    "fig.set_size_inches(8, 5)\n",
    "\n",
    "ax1.set_xlabel('Recorded Time Interval')\n",
    "ax1.set_ylabel('Temperature (deg C)')\n",
    "\n",
    "ax1.plot(times[1:], dailyTemp[1:,0], color='tab:blue', lw=3, label='Depth (-1.5 m)') \n",
    "ax1.plot(times[1:], dailyTemp[1:,1], color='tab:red', lw=3, label='Depth (-17.75 m)') \n",
    "\n",
    "ax2 = ax1.twinx()  # instantiate a second axes that shares the same x-axis\n",
    "ax2.set_ylabel('Wind speed (m/s)', color='tab:purple')  # we already handled the x-label with ax1\n",
    "ax2.plot(times[1:], wspeed[1:], lw=3, color='tab:purple', label='Wind', ls = '--')\n",
    "ax2.tick_params(axis='y', labelcolor='tab:purple')\n",
    "\n",
    "fig.legend(loc='upper right', bbox_to_anchor=(0.91, 0.91))\n",
    "plt.title('Davies Reef temperature stratification with depth for March 2020',fontsize=11)\n",
    "plt.gcf().autofmt_xdate()\n",
    "fig.tight_layout()\n",
    "\n",
    "plt.savefig(\"TempDavieReef.png\",dpi=300)\n",
    "plt.show()\n",
    "fig.clear()\n",
    "plt.close(fig)\n",
    "plt.clf()"
   ]
  },
  {
   "cell_type": "markdown",
   "metadata": {},
   "source": [
    "From this graph we can see that the surface water at Davies Reef was very warm during March 2020. \n",
    "\n",
    "There was a strong stratification of the temperature profile with cool water at -18 m. Around the 10th March the wind picked up for a few days, mixing the water, cooling the surface down rapidly.\n",
    "\n",
    "## Salinity plot\n",
    "\n",
    "Same can be done with the salinity plot:"
   ]
  },
  {
   "cell_type": "code",
   "execution_count": null,
   "metadata": {},
   "outputs": [],
   "source": [
    "fig, ax1 = plt.subplots()\n",
    "fig.set_size_inches(8, 5)\n",
    "\n",
    "ax1.set_xlabel('Recorded Time Interval')\n",
    "ax1.set_ylabel('Salinity (PSU)')\n",
    "\n",
    "ax1.plot(times[1:], dailySalt[1:,0], color='tab:blue', lw=3, label='Depth (-1.5 m)') \n",
    "ax1.plot(times[1:], dailySalt[1:,1], color='tab:red', lw=3, label='Depth (-17.75 m)') \n",
    "\n",
    "ax2 = ax1.twinx()  # instantiate a second axes that shares the same x-axis\n",
    "ax2.set_ylabel('Wind speed (m/s)', color='tab:purple')  # we already handled the x-label with ax1\n",
    "ax2.plot(times[1:], wspeed[1:], lw=3, color='tab:purple', label='Wind', ls = '--')\n",
    "ax2.tick_params(axis='y', labelcolor='tab:purple')\n",
    "\n",
    "fig.legend(loc='lower right', bbox_to_anchor=(0.91, 0.2))\n",
    "plt.title('Davies Reef salinity stratification with depth for March 2020',fontsize=11)\n",
    "plt.gcf().autofmt_xdate()\n",
    "fig.tight_layout()\n",
    "\n",
    "plt.savefig(\"SalinityDavieReef.png\",dpi=300)\n",
    "\n",
    "plt.show()\n",
    "fig.clear()\n",
    "plt.close(fig)\n",
    "plt.clf()"
   ]
  },
  {
   "cell_type": "markdown",
   "metadata": {},
   "source": []
  }
 ],
 "metadata": {
  "kernelspec": {
   "display_name": "Python 3",
   "language": "python",
   "name": "python3"
  },
  "language_info": {
   "codemirror_mode": {
    "name": "ipython",
    "version": 3
   },
   "file_extension": ".py",
   "mimetype": "text/x-python",
   "name": "python",
   "nbconvert_exporter": "python",
   "pygments_lexer": "ipython3",
   "version": "3.7.3"
  }
 },
 "nbformat": 4,
 "nbformat_minor": 4
}
