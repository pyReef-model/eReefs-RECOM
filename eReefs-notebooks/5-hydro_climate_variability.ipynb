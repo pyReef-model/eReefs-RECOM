{
 "cells": [
  {
   "cell_type": "markdown",
   "metadata": {},
   "source": [
    "<img src=\"figs/im3.png\">\n",
    "\n",
    "# Impact of climate variability on GBR hydrodynamics at specific site"
   ]
  },
  {
   "cell_type": "code",
   "execution_count": null,
   "metadata": {},
   "outputs": [],
   "source": [
    "import os\n",
    "import scipy\n",
    "import numpy as np\n",
    "import pandas as pd\n",
    "\n",
    "import io\n",
    "import requests\n",
    "\n",
    "import datetime as dt\n",
    "from dateutil.relativedelta import *\n",
    "\n",
    "import netCDF4\n",
    "from netCDF4 import Dataset, num2date\n",
    "from pylab import *\n",
    "\n",
    "import cmocean\n",
    "\n",
    "import seaborn as sns\n",
    "import pymannkendall as mk\n",
    "\n",
    "# display plots in SVG format\n",
    "%config InlineBackend.figure_format = 'svg'\n",
    "%matplotlib inline"
   ]
  },
  {
   "cell_type": "markdown",
   "metadata": {},
   "source": [
    "In this notebook, we use OpeNDAP to extract time series data at a single location of interest, then plot this data and evaluate climate variability based on long term trend and ENSO oscillations."
   ]
  },
  {
   "cell_type": "markdown",
   "metadata": {},
   "source": [
    "# Connect to the OpeNDAP server to extract dataset from multiple files \n",
    "\n",
    "We query the server based on the OPeNDAP URL for a specific file \"EREEFS_AIMS-CSIRO_gbr4_v2_hydro_daily-monthly-YYYY-MM.nc\". \n",
    "\n",
    "\n",
    "- **gbr4**: we use the Hydrodynamic 4km model and daily data for the month specified\n",
    "\n",
    "\n",
    "Like for our previous example we will use Davies Reef:"
   ]
  },
  {
   "cell_type": "code",
   "execution_count": null,
   "metadata": {},
   "outputs": [],
   "source": [
    "site_lat = -18.82\n",
    "site_lon = 147.64"
   ]
  },
  {
   "cell_type": "markdown",
   "metadata": {},
   "source": [
    "We will use the available parameters from the eReefs dataset at the surface. This is done by defining the required depth index. For the GBR4 model this index is 16."
   ]
  },
  {
   "cell_type": "code",
   "execution_count": null,
   "metadata": {},
   "outputs": [],
   "source": [
    "selectedDepthIndex = 16 # corresponding to -0.5 m"
   ]
  },
  {
   "cell_type": "markdown",
   "metadata": {},
   "source": [
    "Checking from **AIMS thredds server**:\n",
    "    \n",
    "+  [Dataset THREDDS](http://thredds.ereefs.aims.gov.au/thredds/s3catalogue/aims-ereefs-public-prod/derived/ncaggregate/ereefs/gbr4_v2/daily-monthly/catalog.html)\n",
    "\n",
    "The data are archived monthly from September 2010 to present."
   ]
  },
  {
   "cell_type": "code",
   "execution_count": null,
   "metadata": {},
   "outputs": [],
   "source": [
    "def find_nearest(array, value):\n",
    "    '''\n",
    "    Find index of nearest value in a numpy array\n",
    "    '''\n",
    "    \n",
    "    array = np.asarray(array)\n",
    "    idx = (np.abs(array - value)).argmin()\n",
    "    \n",
    "    return idx"
   ]
  },
  {
   "cell_type": "markdown",
   "metadata": {},
   "source": [
    "To collect iteratively the information from each file we perform a while loop. \n",
    "\n",
    "**This cell takes a lot of time to run.** \n",
    "\n",
    "To speed up the process you might want to only extract the information for a restricted period of time and also some specific parameters (*e.g.* temperature or current speed...).\n",
    "\n",
    "For the sake of the exercise, I have stored the output from this cell in a CSV file (`DaviesReef_timeseries.csv`) so there is no need to run it again! Obviously depending of the reef you will chose in your project, you will need to run it."
   ]
  },
  {
   "cell_type": "code",
   "execution_count": null,
   "metadata": {},
   "outputs": [],
   "source": [
    "# Define starting and ending date of the netcdf file we want to load \n",
    "start_date = dt.date(2010, 9, 1)\n",
    "end_date = dt.date(2021, 2, 1)\n",
    "delta = relativedelta(months=+1)\n",
    "\n",
    "# Now perform a while loop to open the netcdf file and extract the relevant dataset for the site of interest\n",
    "step = True\n",
    "while start_date <= end_date:\n",
    "    \n",
    "    # Read individual file from the OpeNDAP server\n",
    "    netCDF_datestr = str(start_date.year)+'-'+format(start_date.month, '02')\n",
    "    print('Processing time interval:',netCDF_datestr)\n",
    "    inputFile = \"http://thredds.ereefs.aims.gov.au/thredds/dodsC/s3://aims-ereefs-public-prod/derived/ncaggregate/ereefs/gbr4_v2/daily-monthly/EREEFS_AIMS-CSIRO_gbr4_v2_hydro_daily-monthly-\"+netCDF_datestr+\".nc\"\n",
    "    start_date += delta    \n",
    "    nc_data = Dataset(inputFile, 'r')\n",
    "    ncdata = nc_data.variables\n",
    "    \n",
    "    # Get parameters values for each single file\n",
    "    if step:\n",
    "        lat = ncdata['latitude'][:].filled(fill_value=0.)\n",
    "        lon = ncdata['longitude'][:].filled(fill_value=0.)\n",
    "        times = ncdata['time'][:]\n",
    "        selectedLatIndex = find_nearest(lat,site_lat)\n",
    "        selectedLonIndex = find_nearest(lon,site_lon)\n",
    "        current = nc_data.variables['mean_cur'][:,selectedDepthIndex, selectedLatIndex, selectedLonIndex]\n",
    "        wind = nc_data.variables['mean_wspeed'][:, selectedLatIndex, selectedLonIndex]\n",
    "        temperature = nc_data.variables['temp'][:,selectedDepthIndex, selectedLatIndex, selectedLonIndex]\n",
    "        salinity = nc_data.variables['salt'][:,selectedDepthIndex, selectedLatIndex, selectedLonIndex]\n",
    "    else:\n",
    "        days = ncdata['time'][:]\n",
    "        times = np.hstack((times,days))\n",
    "        dailyCurr = nc_data.variables['mean_cur'][:,selectedDepthIndex, selectedLatIndex, selectedLonIndex]\n",
    "        current = np.hstack((current,dailyCurr))\n",
    "        dailyWind = nc_data.variables['mean_wspeed'][:, selectedLatIndex, selectedLonIndex]\n",
    "        wind = np.hstack((wind,dailyWind))\n",
    "        dailyTemp = nc_data.variables['temp'][:,selectedDepthIndex, selectedLatIndex, selectedLonIndex]\n",
    "        temperature = np.hstack((temperature,dailyTemp))\n",
    "        dailySalt = nc_data.variables['salt'][:,selectedDepthIndex, selectedLatIndex, selectedLonIndex]\n",
    "        salinity = np.hstack((salinity,dailySalt))\n",
    "    step = False\n",
    "\n",
    "\n",
    "time = pd.to_datetime(times[:],unit='D',origin=pd.Timestamp('1990-01-01'))\n",
    "\n",
    "# Create a pandas dataframe containing the information from all the files\n",
    "df = pd.DataFrame(\n",
    "    data={\n",
    "        \"date\": time,\n",
    "        \"current\": current,\n",
    "        \"wind\": wind,\n",
    "        \"salinity\": salinity,\n",
    "        \"temperature\": temperature,\n",
    "    }\n",
    ")\n",
    "\n",
    "# Store these informations on a file in case you want to reuse them later on without having to \n",
    "# rerun this cell...\n",
    "df.to_csv(\n",
    "        \"DaviesReef_timeseries.csv\",\n",
    "        columns=[\"date\", \"current\", \"wind\", \"salinity\", \"temperature\"],\n",
    "        sep=\" \",\n",
    "        index=False,\n",
    "        header=1,\n",
    "    )"
   ]
  },
  {
   "cell_type": "markdown",
   "metadata": {},
   "source": [
    "Let's read the saved CSV file:"
   ]
  },
  {
   "cell_type": "code",
   "execution_count": null,
   "metadata": {},
   "outputs": [],
   "source": [
    "df = pd.read_csv(\n",
    "        \"DaviesReef_timeseries.csv\",\n",
    "        sep=r\"\\s+\",\n",
    "        engine=\"c\",\n",
    "        header=0,\n",
    "        na_filter=False,\n",
    "        low_memory=False,\n",
    "    )\n",
    "df['date']= pd.to_datetime(df['date'])"
   ]
  },
  {
   "cell_type": "markdown",
   "metadata": {},
   "source": [
    "We can visualise the file content in the Jupyter environment by simply calling the dataframe `df`:"
   ]
  },
  {
   "cell_type": "code",
   "execution_count": null,
   "metadata": {},
   "outputs": [],
   "source": [
    "df"
   ]
  },
  {
   "cell_type": "markdown",
   "metadata": {},
   "source": [
    "What we have here are the outputs from the eReefs model for the closest point to our location (Davies Reef in this example).\n",
    "\n",
    "\n",
    "# Computing eReefs outputs seasonality\n",
    "\n",
    "\n",
    "## Time series\n",
    "\n",
    "We will first explore over time the evolution of the parameters by plotting **time series**. We will plot the raw data as well as the rolling mean value for a considered window (here we pick 30 days corresponding to a monthly mean).\n",
    "\n",
    "In addition to the time series, we will also compute  additional information:\n",
    "+ Maximum parameter value\n",
    "+ Mean parameter value\n",
    "+ Median parameter value\n",
    "+ 95th percentile parameter value"
   ]
  },
  {
   "cell_type": "code",
   "execution_count": null,
   "metadata": {},
   "outputs": [],
   "source": [
    "# Number of observations used for calculating the mean \n",
    "days = int(30)\n",
    "\n",
    "# Compute the rolling window for the mean\n",
    "rolling = df.rolling(str(days) + \"D\", on=\"date\", min_periods=1).mean()\n",
    "\n",
    "current_roll = rolling[\"current\"]\n",
    "wind_roll = rolling[\"wind\"]\n",
    "salinity_roll = rolling[\"salinity\"]\n",
    "temperature_roll = rolling[\"temperature\"]\n",
    "\n",
    "# Let us store these means in a new datafame\n",
    "timeseries = pd.DataFrame(\n",
    "            data={\n",
    "                \"date\": df['date'],\n",
    "                \"current\": df['current'],\n",
    "                \"current_roll\": current_roll,\n",
    "                \"wind\": df['wind'],\n",
    "                \"wind_roll\": wind_roll,\n",
    "                \"salinity\": df['salinity'],\n",
    "                \"salinity_roll\": salinity_roll,\n",
    "                \"temperature\": df['temperature'],\n",
    "                \"temperature_roll\": temperature_roll,\n",
    "            }\n",
    "        )\n",
    "\n",
    "timeseries[\"day\"] = timeseries[\"date\"].dt.day\n",
    "timeseries[\"month\"] = timeseries[\"date\"].dt.month\n",
    "timeseries[\"year\"] = timeseries[\"date\"].dt.year\n",
    "\n",
    "# Let's open the new dataframe\n",
    "timeseries"
   ]
  },
  {
   "cell_type": "markdown",
   "metadata": {},
   "source": [
    "We can now plot the time series based on the above dataset. \n",
    "\n",
    "### Mean current time series at site location\n",
    "\n",
    "This is done like this:"
   ]
  },
  {
   "cell_type": "code",
   "execution_count": null,
   "metadata": {
    "scrolled": false
   },
   "outputs": [],
   "source": [
    "fig, ax1 = plt.subplots(figsize=(12, 5))\n",
    "ax1.plot(timeseries.date, timeseries.current, color=\"lightgrey\", label=\"Mean current\")\n",
    "ax1.plot(\n",
    "    timeseries.date,\n",
    "    timeseries.current_roll,\n",
    "    color=\"blue\",\n",
    "    label=str(days) + \"-Day Average\",\n",
    ")\n",
    "ax1.legend(\n",
    "    labels=[\"Mean current\", str(days) + \"-Day Average\"],\n",
    "    loc=\"upper left\",\n",
    ")\n",
    "ax1.set_ylabel(\"Mean current (m/s)\", style=\"italic\", fontsize=12)\n",
    "print(\"Max surface current: {:0.3f} m/s\".format(max(timeseries.current)))\n",
    "print(\"Mean surface current: {:0.3f} m/s\".format(np.mean(timeseries.current)))\n",
    "print(\"Median surface current: {:0.3f} m/s\".format(np.median(timeseries.current)))\n",
    "print(\n",
    "    \"95th percentile mean current: {:0.3f} m/s\".format(\n",
    "        np.percentile(timeseries.current, 95)\n",
    "    )\n",
    ")\n",
    "ax1.set_xlim(min(timeseries.date), max(timeseries.date))\n",
    "ax1.set_xlabel(\"Year\", fontsize=12)\n",
    "ax1.grid(True, linewidth=0.5, color=\"k\", alpha=0.1, linestyle=\"-\")\n",
    "ax1.tick_params(labelcolor=\"k\", labelsize=\"medium\", width=3)\n",
    "plt.title('eReefs surficial mean current at Davies Reef')\n",
    "plt.show()\n",
    "#fig.savefig(\"DaviesReefcurrentVariability\", dpi=100)"
   ]
  },
  {
   "cell_type": "markdown",
   "metadata": {},
   "source": [
    "Same goes with the other parameters:"
   ]
  },
  {
   "cell_type": "code",
   "execution_count": null,
   "metadata": {
    "scrolled": false
   },
   "outputs": [],
   "source": [
    "### WIND\n",
    "fig, ax1 = plt.subplots(figsize=(12, 5))\n",
    "ax1.plot(timeseries.date, timeseries.wind, color=\"lightgrey\", label=\"Mean wind\")\n",
    "ax1.plot(\n",
    "    timeseries.date,\n",
    "    timeseries.wind_roll,\n",
    "    color=\"tab:green\",\n",
    "    label=str(days) + \"-Day Average\",\n",
    ")\n",
    "ax1.legend(\n",
    "    labels=[\"Mean wind\", str(days) + \"-Day Average\"],\n",
    "    loc=\"upper left\",\n",
    ")\n",
    "ax1.set_ylabel(\"Mean wind (m/s)\", style=\"italic\", fontsize=12)\n",
    "print(\"Max mean wind: {:0.3f} m/s\".format(max(timeseries.wind)))\n",
    "print(\"Mean mean wind: {:0.3f} m/s\".format(np.mean(timeseries.wind)))\n",
    "print(\"Median mean wind: {:0.3f} m/s\".format(np.median(timeseries.wind)))\n",
    "print(\n",
    "    \"95th percentile mean wind: {:0.3f} m/s\".format(\n",
    "        np.percentile(timeseries.wind, 95)\n",
    "    )\n",
    ")\n",
    "ax1.set_xlim(min(timeseries.date), max(timeseries.date))\n",
    "ax1.set_xlabel(\"Year\", fontsize=12)\n",
    "ax1.grid(True, linewidth=0.5, color=\"k\", alpha=0.1, linestyle=\"-\")\n",
    "ax1.tick_params(labelcolor=\"k\", labelsize=\"medium\", width=3)\n",
    "plt.show()\n",
    "\n",
    "### TEMPERATURE\n",
    "fig, ax1 = plt.subplots(figsize=(12, 5))\n",
    "ax1.plot(timeseries.date, timeseries.temperature, color=\"lightgrey\", label=\"Mean wind\")\n",
    "ax1.plot(\n",
    "    timeseries.date,\n",
    "    timeseries.temperature_roll,\n",
    "    color=\"tab:orange\",\n",
    "    label=str(days) + \"-Day Average\",\n",
    ")\n",
    "ax1.legend(\n",
    "    labels=[\"Mean surface temperature\", str(days) + \"-Day Average\"],\n",
    "    loc=\"upper left\",\n",
    ")\n",
    "ax1.set_ylabel(\"Mean surface temperature (deg. C)\", style=\"italic\", fontsize=12)\n",
    "print(\"Max surface temperature: {:0.3f} deg. C\".format(max(timeseries.temperature)))\n",
    "print(\"Mean surface temperature: {:0.3f} deg. C\".format(np.mean(timeseries.temperature)))\n",
    "print(\"Median surface temperature: {:0.3f} deg. C\".format(np.median(timeseries.temperature)))\n",
    "print(\n",
    "    \"95th percentile mean surface temperature: {:0.3f} deg. C\".format(\n",
    "        np.percentile(timeseries.temperature, 95)\n",
    "    )\n",
    ")\n",
    "ax1.set_xlim(min(timeseries.date), max(timeseries.date))\n",
    "ax1.set_xlabel(\"Year\", fontsize=12)\n",
    "ax1.grid(True, linewidth=0.5, color=\"k\", alpha=0.1, linestyle=\"-\")\n",
    "ax1.tick_params(labelcolor=\"k\", labelsize=\"medium\", width=3)\n",
    "plt.show()\n",
    "\n",
    "### SALINITY\n",
    "fig, ax1 = plt.subplots(figsize=(12, 5))\n",
    "ax1.plot(timeseries.date, timeseries.salinity, color=\"lightgrey\", label=\"Mean wind\")\n",
    "ax1.plot(\n",
    "    timeseries.date,\n",
    "    timeseries.salinity_roll,\n",
    "    color=\"tab:red\",\n",
    "    label=str(days) + \"-Day Average\",\n",
    ")\n",
    "ax1.legend(\n",
    "    labels=[\"Mean surface salinity\", str(days) + \"-Day Average\"],\n",
    "    loc=\"upper left\",\n",
    ")\n",
    "ax1.set_ylabel(\"Mean surface salinity (PSU)\", style=\"italic\", fontsize=12)\n",
    "print(\"Max surface salinity: {:0.3f} PSU\".format(max(timeseries.salinity)))\n",
    "print(\"Mean surface salinity: {:0.3f} PSU\".format(np.mean(timeseries.salinity)))\n",
    "print(\"Median surface salinity: {:0.3f} PSU\".format(np.median(timeseries.salinity)))\n",
    "print(\n",
    "    \"95th percentile mean surface salinity: {:0.3f} PSU\".format(\n",
    "        np.percentile(timeseries.salinity, 95)\n",
    "    )\n",
    ")\n",
    "ax1.set_xlim(min(timeseries.date), max(timeseries.date))\n",
    "ax1.set_xlabel(\"Year\", fontsize=12)\n",
    "ax1.grid(True, linewidth=0.5, color=\"k\", alpha=0.1, linestyle=\"-\")\n",
    "ax1.tick_params(labelcolor=\"k\", labelsize=\"medium\", width=3)\n",
    "plt.show()"
   ]
  },
  {
   "cell_type": "markdown",
   "metadata": {},
   "source": [
    "## Seasonability trends\n",
    "\n",
    "In addition to time series, we can analyse the seasonal characteristics of eReefs parameters.\n",
    "\n",
    "To do that we first need to group the previous data frame by month. We define a function `getSeason` that can be called for each parameter:"
   ]
  },
  {
   "cell_type": "code",
   "execution_count": null,
   "metadata": {},
   "outputs": [],
   "source": [
    "def getSeason(param):\n",
    "    tdf = (timeseries.groupby([\"year\", \"month\"])[[param]]\n",
    "                    .apply(np.mean)\n",
    "                    .reset_index()\n",
    "        )\n",
    "\n",
    "    dfseason = tdf.pivot(index=\"year\", columns=\"month\", values=param)\n",
    "\n",
    "    dfseason = dfseason.rename(\n",
    "        columns={\n",
    "            1: \"January\",\n",
    "            2: \"February\",\n",
    "            3: \"March\",\n",
    "            4: \"April\",\n",
    "            5: \"May\",\n",
    "            6: \"June\",\n",
    "            7: \"July\",\n",
    "            8: \"August\",\n",
    "            9: \"September\",\n",
    "            10: \"October\",\n",
    "            11: \"November\",\n",
    "            12: \"December\",\n",
    "        }\n",
    "    )\n",
    "\n",
    "    return dfseason\n",
    "\n",
    "# Let's call the function\n",
    "Current_season = getSeason('current')\n",
    "Wind_season = getSeason('wind')\n",
    "Temp_season = getSeason('temperature')\n",
    "Salt_season = getSeason('salinity')"
   ]
  },
  {
   "cell_type": "markdown",
   "metadata": {},
   "source": [
    "### Heatmaps"
   ]
  },
  {
   "cell_type": "code",
   "execution_count": null,
   "metadata": {},
   "outputs": [],
   "source": [
    "# Current\n",
    "color = cmocean.cm.speed\n",
    "fig, ax = plt.subplots(figsize=(6, 6))\n",
    "sns.heatmap(\n",
    "    Current_season, annot=True, fmt=\".2f\", cmap=color, linewidths=1, cbar=False\n",
    ")\n",
    "ax.set_title(\"Current (m/s)\", fontsize=10)\n",
    "ax.set_ylabel(\"Years\", fontsize=10)\n",
    "ax.set_xlabel(\"Months\", fontsize=10)\n",
    "ax.yaxis.set_tick_params(labelsize=9)\n",
    "ax.xaxis.set_tick_params(labelsize=9, rotation=45)\n",
    "plt.tight_layout()\n",
    "plt.show()\n",
    "\n",
    "# Temperature\n",
    "color = cmocean.cm.thermal\n",
    "fig, ax = plt.subplots(figsize=(6, 6))\n",
    "sns.heatmap(\n",
    "    Temp_season, annot=True, fmt=\".2f\", cmap=color, linewidths=1, cbar=False\n",
    ")\n",
    "ax.set_title(\"Temperature (deg. C)\", fontsize=10)\n",
    "ax.set_ylabel(\"Years\", fontsize=10)\n",
    "ax.set_xlabel(\"Months\", fontsize=10)\n",
    "ax.yaxis.set_tick_params(labelsize=9)\n",
    "ax.xaxis.set_tick_params(labelsize=9, rotation=45)\n",
    "plt.tight_layout()\n",
    "plt.show()"
   ]
  },
  {
   "cell_type": "markdown",
   "metadata": {},
   "source": [
    "### Monthly distributions"
   ]
  },
  {
   "cell_type": "code",
   "execution_count": null,
   "metadata": {},
   "outputs": [],
   "source": [
    "# Wind\n",
    "fig, ax = plt.subplots(figsize=(7, 4))\n",
    "sns.boxplot(data=Current_season, palette=\"Spectral\")\n",
    "ax.set_title(\"Monthly distributions for chosen time interval\", fontsize=11)\n",
    "ax.set_ylabel(\"Wind (m/s)\", fontsize=9)\n",
    "ax.set_xlabel(\"Months\", fontsize=9)\n",
    "ax.yaxis.set_tick_params(labelsize=9)\n",
    "ax.xaxis.set_tick_params(labelsize=9, rotation=45)\n",
    "plt.tight_layout()\n",
    "plt.show()\n",
    "\n",
    "# Salinity\n",
    "fig, ax = plt.subplots(figsize=(7, 4))\n",
    "sns.boxplot(data=Salt_season, palette=\"Spectral\")\n",
    "ax.set_title(\"Monthly distributions for chosen time interval\", fontsize=11)\n",
    "ax.set_ylabel(\"Salinity (PSU)\", fontsize=9)\n",
    "ax.set_xlabel(\"Months\", fontsize=9)\n",
    "ax.yaxis.set_tick_params(labelsize=9)\n",
    "ax.xaxis.set_tick_params(labelsize=9, rotation=45)\n",
    "plt.tight_layout()\n",
    "plt.show()"
   ]
  },
  {
   "cell_type": "markdown",
   "metadata": {},
   "source": [
    "### Standard deviation to the mean by months"
   ]
  },
  {
   "cell_type": "code",
   "execution_count": null,
   "metadata": {},
   "outputs": [],
   "source": [
    "curr_sd = Current_season.std(axis=0)\n",
    "wind_sd = Wind_season.std(axis=0)\n",
    "temp_sd = Temp_season.std(axis=0)\n",
    "salt_sd = Salt_season.std(axis=0)\n",
    "\n",
    "# Make figure\n",
    "fig, ax = plt.subplots(figsize=(8, 4))\n",
    "\n",
    "curr_sd.plot(marker=\"o\", linestyle=\"dashed\", linewidth=1, markersize=9, label='curr')\n",
    "wind_sd.plot(marker=\"o\", linestyle=\"dashed\", linewidth=1, markersize=9, label='wind')\n",
    "temp_sd.plot(marker=\"o\", linestyle=\"dashed\", linewidth=1, markersize=9, label='temp')\n",
    "salt_sd.plot(marker=\"o\", linestyle=\"dashed\", linewidth=1, markersize=9, label='salt')\n",
    "\n",
    "ax.set_title(\"Standard deviation in Davies Reef for chosen time interval\",fontsize=11)\n",
    "ax.set_ylabel(\"Standard deviation\", fontsize=10)\n",
    "ax.set_xlabel(\"Months\", fontsize=10)\n",
    "ax.yaxis.set_tick_params(labelsize=9)\n",
    "ax.xaxis.set_tick_params(labelsize=9, rotation=45)\n",
    "plt.legend() #loc='upper right', bbox_to_anchor=(0.91, 0.91))\n",
    "plt.tight_layout()\n",
    "plt.show()"
   ]
  },
  {
   "cell_type": "markdown",
   "metadata": {},
   "source": [
    "Analysing the trend:"
   ]
  },
  {
   "cell_type": "code",
   "execution_count": null,
   "metadata": {},
   "outputs": [],
   "source": [
    "curr_stack = Current_season.stack()\n",
    "curr_trend = mk.seasonal_test(curr_stack, period=12)\n",
    "print(\" \")\n",
    "print(\"Change in yearly current trend accounting for seasonality:\")\n",
    "print(\"    +           trend: \", curr_trend.trend)\n",
    "print(\"    +    slope (cm/s /y): \",str(round(curr_trend.slope * 100.0, 2)))\n",
    "\n",
    "wind_stack = Wind_season.stack()\n",
    "wind_trend = mk.seasonal_test(wind_stack, period=12)\n",
    "print(\" \")\n",
    "print(\"Change in yearly wind trend accounting for seasonality:\")\n",
    "print(\"    +           trend: \", wind_trend.trend)\n",
    "print(\"    +    slope (cm/s /y): \",str(round(wind_trend.slope * 100.0, 2)))\n",
    "\n",
    "temp_stack = Temp_season.stack()\n",
    "temp_trend = mk.seasonal_test(temp_stack, period=12)\n",
    "print(\" \")\n",
    "print(\"Change in yearly temperature trend accounting for seasonality:\")\n",
    "print(\"    +           trend: \", temp_trend.trend)\n",
    "print(\"    +    slope (deg. C /y): \",str(round(temp_trend.slope, 2)))\n",
    "\n",
    "salt_stack = Salt_season.stack()\n",
    "salt_trend = mk.seasonal_test(salt_stack, period=12)\n",
    "print(\" \")\n",
    "print(\"Change in yearly salinity trend accounting for seasonality:\")\n",
    "print(\"    +           trend: \", salt_trend.trend)\n",
    "print(\"    +    slope (PSU /y): \",str(round(salt_trend.slope, 2)))"
   ]
  },
  {
   "cell_type": "markdown",
   "metadata": {},
   "source": [
    "# Multi-years analysis of the impact of climate trend \n",
    "\n",
    "Oscillation in atmospheric patterns is known to alter regional weather conditions and associated trends in wave climate [Godoi et al., 2016].\n",
    "\n",
    "Here we illustrate how the results obtained with **eReefs** can be used to investigate how climate patterns may affect different hydrodynamic parameters.\n",
    "\n",
    "For the sake of the demonstration, we will focus our analysis on the following indices:\n",
    "\n",
    "+ SOI - Southern Oscillation Index / [information](http://www.bom.gov.au/climate/enso/history/ln-2010-12/SOI-what.shtml)\n",
    "\n",
    "We first load the data associated to each index using `Pandas` functionalities.\n",
    "\n",
    "+ Godoi, V.A., Bryan, K.R. and Gorman, R.M., 2016. [Regional influence of climate patterns on the wave climate of the southwestern Pacific: The New Zealand region](https://agupubs.onlinelibrary.wiley.com/doi/pdf/10.1002/2015JC011572). Journal of Geophysical Research: Oceans, 121(6), pp.4056-4076."
   ]
  },
  {
   "cell_type": "code",
   "execution_count": null,
   "metadata": {},
   "outputs": [],
   "source": [
    "# Defining the timeframe\n",
    "time = [2011,2020] "
   ]
  },
  {
   "cell_type": "markdown",
   "metadata": {},
   "source": [
    "Monthly means of the SOI index are sourced from the National Oceanic and Atmospheric Administration (**NOAA**) and the Natural Environment Research Council from the British Antarctic Survey (**NERC**). \n",
    "\n",
    "The anomalies are computed by subtracting overall mean from the monthly means. \n",
    "\n",
    "Then, the same is done for the eReefs parameters in order to investigate how they are modulated by the climate modes.\n",
    "\n",
    "\n",
    "### SOI - Southern Oscillation Index"
   ]
  },
  {
   "cell_type": "code",
   "execution_count": null,
   "metadata": {},
   "outputs": [],
   "source": [
    "# Dataset URL\n",
    "url = \"https://www.ncdc.noaa.gov/teleconnections/enso/indicators/soi/data.csv\"\n",
    "\n",
    "# Using Pandas to load the file content\n",
    "soi = requests.get(url).content\n",
    "soi_data = pd.read_csv(io.StringIO(soi.decode('utf-8')),skiprows=1)\n",
    "\n",
    "# Define year and month of each record\n",
    "soi_data['year'] = soi_data['Date'] // 100\n",
    "soi_data['month'] = soi_data['Date'] % 100 \n",
    "\n",
    "# Extract the information for the specified time interval \n",
    "soi_df = soi_data.drop(soi_data[soi_data.year < time[0]].index)\n",
    "soi_df = soi_df.drop(soi_df[soi_df.year > time[1]].index)\n",
    "\n",
    "# Calculate the 20-years mean \n",
    "soi_mean = soi_df['Value'].mean()\n",
    "\n",
    "# Compute and store the anomalies in the dataframe\n",
    "soi_df['anomaly'] = soi_df['Value']-soi_mean\n",
    "\n",
    "soi_df"
   ]
  },
  {
   "cell_type": "markdown",
   "metadata": {},
   "source": [
    "eReefs outputs anomalies:"
   ]
  },
  {
   "cell_type": "code",
   "execution_count": null,
   "metadata": {},
   "outputs": [],
   "source": [
    "# Get monthly mean eReefs parameters\n",
    "curr_data = timeseries.groupby(['year', 'month'])[['current']].apply(np.mean).reset_index()\n",
    "wind_data = timeseries.groupby(['year', 'month'])[['wind']].apply(np.mean).reset_index()\n",
    "temp_data = timeseries.groupby(['year', 'month'])[['temperature']].apply(np.mean).reset_index()\n",
    "salt_data = timeseries.groupby(['year', 'month'])[['salinity']].apply(np.mean).reset_index()\n",
    "\n",
    "# Extract the information for the specified time interval \n",
    "curr_df = curr_data.drop(curr_data[curr_data.year < time[0]].index)\n",
    "curr_df = curr_df.drop(curr_df[curr_df.year > time[1]].index)\n",
    "wind_df = wind_data.drop(wind_data[wind_data.year < time[0]].index)\n",
    "wind_df = wind_df.drop(wind_df[wind_df.year > time[1]].index)\n",
    "temp_df = temp_data.drop(temp_data[temp_data.year < time[0]].index)\n",
    "temp_df = temp_df.drop(temp_df[temp_df.year > time[1]].index)\n",
    "salt_df = salt_data.drop(salt_data[salt_data.year < time[0]].index)\n",
    "salt_df = salt_df.drop(salt_df[salt_df.year > time[1]].index)\n",
    "\n",
    "# Calculate the mean \n",
    "curr_mean = curr_df['current'].mean()\n",
    "wind_mean = wind_df['wind'].mean()\n",
    "temp_mean = temp_df['temperature'].mean()\n",
    "salt_mean = salt_df['salinity'].mean()\n",
    "\n",
    "# Compute and store the anomalies in the dataframe\n",
    "curr_df['anomaly'] = curr_df['current']-curr_mean\n",
    "wind_df['anomaly'] = wind_df['wind']-wind_mean\n",
    "temp_df['anomaly'] = temp_df['temperature']-temp_mean\n",
    "salt_df['anomaly'] = salt_df['salinity']-salt_mean"
   ]
  },
  {
   "cell_type": "markdown",
   "metadata": {},
   "source": [
    "## Correlations\n",
    "\n",
    "Monthly mean anomalies of eReefs outputs can be correlated with monthly mean anomaly time series of the SOI index by computing the **Pearson’s correlation coefficient** (R) for the region of interest. \n",
    "\n",
    "We use [scipy.stats.pearsonr](https://docs.scipy.org/doc/scipy/reference/generated/scipy.stats.pearsonr.html) function to make this calculation. This function returns 2 values:\n",
    "\n",
    "+ r: Pearson’s correlation coefficient.\n",
    "+ p: Two-tailed p-value."
   ]
  },
  {
   "cell_type": "code",
   "execution_count": null,
   "metadata": {},
   "outputs": [],
   "source": [
    "# Pearson correlation between current and SOI\n",
    "monthly_soi = scipy.stats.pearsonr(soi_df['anomaly'],curr_df['anomaly']) \n",
    "print('+ Pearson correlation between current and SOI:',monthly_soi[0],'\\n')\n",
    "\n",
    "# Pearson correlation between wind and SOI\n",
    "monthly_soi = scipy.stats.pearsonr(soi_df['anomaly'],wind_df['anomaly']) \n",
    "print('+ Pearson correlation between wind and SOI:',monthly_soi[0],'\\n')\n",
    "\n",
    "# Pearson correlation between temperature and SOI\n",
    "monthly_curr_soi = scipy.stats.pearsonr(soi_df['anomaly'],temp_df['anomaly']) \n",
    "print('+ Pearson correlation between temperature and SOI:',monthly_soi[0],'\\n')\n",
    "\n",
    "# Pearson correlation between salinity and SOI\n",
    "monthly_soi = scipy.stats.pearsonr(soi_df['anomaly'],salt_df['anomaly']) \n",
    "print('+ Pearson correlation between salinity and SOI:',monthly_soi[0],'\\n')"
   ]
  },
  {
   "cell_type": "code",
   "execution_count": null,
   "metadata": {},
   "outputs": [],
   "source": []
  },
  {
   "cell_type": "code",
   "execution_count": null,
   "metadata": {},
   "outputs": [],
   "source": []
  }
 ],
 "metadata": {
  "kernelspec": {
   "display_name": "Python 3",
   "language": "python",
   "name": "python3"
  },
  "language_info": {
   "codemirror_mode": {
    "name": "ipython",
    "version": 3
   },
   "file_extension": ".py",
   "mimetype": "text/x-python",
   "name": "python",
   "nbconvert_exporter": "python",
   "pygments_lexer": "ipython3",
   "version": "3.7.3"
  }
 },
 "nbformat": 4,
 "nbformat_minor": 4
}
