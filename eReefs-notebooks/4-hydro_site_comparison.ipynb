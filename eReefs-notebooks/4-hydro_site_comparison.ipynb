{
 "cells": [
  {
   "cell_type": "markdown",
   "metadata": {},
   "source": [
    "<img src=\"figs/im4.png\">\n",
    "\n",
    "# eReefs hydrodynamics comparisons between sites\n",
    "\n",
    "Notebook designed by **Mark Hammerton** from **AIMS** "
   ]
  },
  {
   "cell_type": "code",
   "execution_count": null,
   "metadata": {},
   "outputs": [],
   "source": [
    "import os\n",
    "import numpy as np\n",
    "import pandas as pd\n",
    "from scipy import stats\n",
    "from scipy.spatial import cKDTree\n",
    "\n",
    "import urllib.request\n",
    "import datetime as dt\n",
    "\n",
    "import netCDF4\n",
    "from netCDF4 import Dataset, num2date\n",
    "\n",
    "from pylab import *\n",
    "\n",
    "# display plots in SVG format\n",
    "%config InlineBackend.figure_format = 'svg'\n",
    "%matplotlib inline"
   ]
  },
  {
   "cell_type": "markdown",
   "metadata": {},
   "source": [
    "In this notebook, we use the [AIMS eReefs extraction tool](https://extraction.ereefs.aims.gov.au/) to extract time series data for two locations of interest.  \n",
    "\n",
    "## Example problem: How strong does the wind need to be to set the direction of the surface ocean currents?\n",
    "\n",
    "We will investigate the relationship between the strength of the wind and the direction of the surface currents for two locations. We will look at **Myrmidon Reef**, which is on the far outer edge of the GBR and is almost right in the middle of the southern **Eastern Australian Current**. \n",
    "\n",
    "Our second location will be **Davies Reef** which is further in the reef matrix, but in a similar sector of the GBR. \n",
    "\n",
    "## Analysis method\n",
    "\n",
    "The East Australian Current (EAC) usually is a strong southward current near Myrmidon and Davies Reefs. During winter months the wind moves in a north eastern direction in the near opposite direction to the EAC. When the wind is low the surface currents are dominated by the EAC. As the wind picks up at some speed the wind overpowers the EAC and the surface current moves in the direction of the wind.\n",
    "\n",
    "To determine the relation between the wind and the surface currents we will pull out hourly time series wind and current data for our two locations of interest. We will then look at the correlation between the wind and current vectors, where a correlation of 1 indicates they are pointing in the same direction, and -1 indicated they are in opposite directions. \n",
    "\n",
    "## Setting up to get the data\n",
    "\n",
    "To extract the time series data using the extraction tool we need to create a CSV file containing the sites of interest. This file needs to contain the coordinates and names of the sites. To create this I first added my points manually in Google Earth. This was done to simply get the location of Myrmidon and Davies Reefs. Using Google Earth to create your CSV file for the extraction tool is only useful if you don't already know the coordinates of your sites.\n",
    "\n",
    "The location of the two sites are:\n",
    "\n",
    "```\n",
    "name,lat,lon\n",
    "Myrmidon Reef,-18.265599,147.389028\n",
    "Davies Reef,-18.822840,147.645209\n",
    "```\n",
    "\n",
    "## Extracting the data\n",
    "\n",
    "The [CSV file](media/3-extraction-tool-reef-locations.csv) was uploaded to the [AIMS extraction tool](https://extraction.ereefs.aims.gov.au/) and the extraction was performed with the following settings:\n",
    "\n",
    "*Data collection:* GBR1 Hydro (Version 2)\n",
    "*Variables:* Eastward wind speed (wspeed_u), Northward wind speed (wspeed_v), Northward current (v), Eastward current (u)\n",
    "*Date range:* 1 January 2019 - 31 December 2019\n",
    "*Time step:* hourly\n",
    "*Depths:* -2.35 m\n",
    "\n",
    "Once the extraction request was submitted the dataset was created after an one hour of processing the data was available for download from [Extraction request: Example dataset: Wind-vs-Current at Davies and Myrmidon Reefs (2019)](https://extraction.ereefs.aims.gov.au/data/2009.c451dc3). \n",
    "\n",
    "## Downloading the data\n",
    "\n",
    "In this notebook we will download the data using scripting. There is no need to re-run the extraction request as each extraction performed by the extraction tool has a permanent public page created for it that can be used to facilitate sharing of the data. \n",
    "\n",
    "Let's first create a temporary folder to contain the downloaded data. Note: The temp folder is excluded using the .gitignore so it is not saved to the code repository, which is why we must reproduce it."
   ]
  },
  {
   "cell_type": "code",
   "execution_count": null,
   "metadata": {},
   "outputs": [],
   "source": [
    "if not os.path.exists('temp'):\n",
    "    os.makedirs('temp')"
   ]
  },
  {
   "cell_type": "markdown",
   "metadata": {},
   "source": [
    "Now let's download the data. The file to download is 12.9 MB and so this download might take a little while. To allow us to re-run this script without having to wait for the download each time we first check that the download has not already been done."
   ]
  },
  {
   "cell_type": "code",
   "execution_count": null,
   "metadata": {},
   "outputs": [],
   "source": [
    "extractionfile = os.path.join('temp','2009.c451dc3-collected.csv')  # Use os.path.join so the script will work cross-platform\n",
    "\n",
    "if not os.path.exists(extractionfile):\n",
    "    print(\"Downloading extraction data ...\")\n",
    "    url = 'https://api.ereefs.aims.gov.au/data-extraction/request/2009.c451dc3/files/2009.c451dc3-collected.csv'\n",
    "    req = urllib.request.urlretrieve(url, extractionfile)\n",
    "    print(req)\n",
    "else:\n",
    "    print(\"Skipping redownloading extraction data\")"
   ]
  },
  {
   "cell_type": "markdown",
   "metadata": {},
   "source": [
    "## Reading and cleaning the data\n",
    "\n",
    "Read the resulting CSV file into a [Pandas data frame](https://pandas.pydata.org/pandas-docs/stable/user_guide/10min.html)."
   ]
  },
  {
   "cell_type": "code",
   "execution_count": null,
   "metadata": {
    "scrolled": true
   },
   "outputs": [],
   "source": [
    "df = pd.read_csv(extractionfile)\n",
    "df.head()"
   ]
  },
  {
   "cell_type": "markdown",
   "metadata": {},
   "source": [
    "Here we can see that data is in [tidy format](https://towardsdatascience.com/whats-tidy-data-how-to-organize-messy-datasets-in-python-with-melt-and-pivotable-functions-5d52daa996c9). That is each observation is in one row per time step, variable, depth and site. For each of these combinations there are summary statistics corresponding to the aggregation process that was applied. Somewhat confusingly we extracted hourly data from the hourly eReefs hydrodynamic model and so there was no aggregation applied. As a result all the stats values are the same and the mean corresponds to the actual extracted data values. Let's clean this up a little by removing the redundant columns. Here we also drop the depth variable as the depth of the wind doesn't match the depth of the surface current and so makes it difficult to align the wind and the current together. Since we are only processing a single depth this is an OK simplification. If we were processing the current at multiple depths then we would need a more complex set of data wraggling."
   ]
  },
  {
   "cell_type": "code",
   "execution_count": null,
   "metadata": {},
   "outputs": [],
   "source": [
    "df2 = df.drop(columns=['median', 'p5', 'p95', 'lowest','highest','Depth']).rename(columns={\"mean\": \"value\"})\n",
    "df2"
   ]
  },
  {
   "cell_type": "markdown",
   "metadata": {},
   "source": [
    "Next we need to align the wind and current values for a given time step and site on to the same rows of data. Here we are converting the data from tall format to wide format. "
   ]
  },
  {
   "cell_type": "code",
   "execution_count": null,
   "metadata": {},
   "outputs": [],
   "source": [
    "df3 = (df2.set_index([\"Site Name\", \"Latitude\", \"Longitude\", \"Aggregated Date/Time\"])\n",
    "    .pivot(columns=\"Variable\")['value'].reset_index()\n",
    "        .rename_axis(None, axis=1)\n",
    ")\n",
    "df3"
   ]
  },
  {
   "cell_type": "markdown",
   "metadata": {},
   "source": [
    "## Correlation\n",
    "\n",
    "Our aim is to create an index that estimates the correlation of the current and the wind vectors.\n",
    "\n",
    "The correlation of the current and wind vectors can be estimated based using the [dot product](https://www.mathsisfun.com/algebra/vectors-dot-product.html). An overview of the relationship between correlation and using the dot product is described in [Geometric Interpretation of the Correlation between Two Variables](https://medium.com/@ns2586/geometric-interpretation-of-the-correlation-between-two-variables-4011fb3ea18e). The correlation between the two vectors 'r' is given by:\n",
    "\n",
    "$r = \\cos(\\theta) = \\frac{a \\cdot b}{\\|a\\| \\cdot \\|b\\|}$\n",
    "\n",
    "where $a \\cdot b$ is the dot product between the tow vectors and $\\|a\\|$ and $\\|b\\|$ are the magnitudes of the vectors. The dot product can be calculated using the following.\n",
    "\n",
    "$a \\cdot b = a_{x} \\times b_{x} + a_{y} \\times b_{y}$\n",
    "\n",
    "and the magnitude of the vectors:\n",
    "\n",
    "$\\|a\\| = \\sqrt{a_{x}^2+a_{y}^2}$\n",
    "\n",
    "$\\|b\\| = \\sqrt{b_{x}^2+b_{y}^2}$\n",
    "\n"
   ]
  },
  {
   "cell_type": "code",
   "execution_count": null,
   "metadata": {},
   "outputs": [],
   "source": [
    "df3['currentmag'] = np.sqrt(df3['u']**2+df3['v']**2)\n",
    "df3['windmag'] = np.sqrt(df3['wspeed_u']**2+df3['wspeed_v']**2)\n",
    "df3['windcurrentcorr'] = (df3['u'] * df3['wspeed_u'] + df3['v'] * df3['wspeed_v'])/(df3['currentmag']*df3['windmag'])\n",
    "df3.head()"
   ]
  },
  {
   "cell_type": "markdown",
   "metadata": {},
   "source": [
    "Let's look at the relationship between the wind and current as a function of the wind speed. \n",
    "\n",
    "Here we are considering each hourly sample as an independent estimate of the relationship. In reality this is not the case as the longer the wind blows the more effect it will have on the current. This is a limitation of the analysis."
   ]
  },
  {
   "cell_type": "code",
   "execution_count": null,
   "metadata": {},
   "outputs": [],
   "source": [
    "davies = df3.query('`Site Name` == \"Davies Reef\"')\n",
    "myrmidon = df3.query('`Site Name` == \"Myrmidon Reef\"')\n",
    "myrmidon.head()"
   ]
  },
  {
   "cell_type": "markdown",
   "metadata": {},
   "source": [
    "\n",
    "Let's create a scatter plot to see if there is a relationship between the wind and currents."
   ]
  },
  {
   "cell_type": "code",
   "execution_count": null,
   "metadata": {},
   "outputs": [],
   "source": [
    "fig, ax1 = plt.subplots()\n",
    "fig.set_size_inches(8, 5)\n",
    "\n",
    "ax1.set_xlabel('Wind speed (m/s)')\n",
    "ax1.set_ylabel('Wind-current correlation')\n",
    "\n",
    "ax1.scatter(myrmidon[\"windmag\"], myrmidon[\"windcurrentcorr\"], color='tab:blue', s=2) \n",
    "ax1.scatter(davies[\"windmag\"], davies[\"windcurrentcorr\"], color='tab:red', s=2) \n",
    "\n",
    "plt.title('Correlation between wind and surface current (hourly data, 2019)',fontsize=11)\n",
    "fig.tight_layout()\n",
    "\n",
    "# plt.savefig(\"CorrelationWindCurrent.png\",dpi=300)\n",
    "plt.show()\n",
    "fig.clear()\n",
    "plt.close(fig)\n",
    "plt.clf()"
   ]
  },
  {
   "cell_type": "markdown",
   "metadata": {},
   "source": [
    "This scatter plot shows that the relationship between wind and current is weak. This is not surprising given that we are considering just the hourly samples, with no consideration for how long the wind has been blowing. At low wind conditions the current has an even chance of being aligned with the wind (correlation = 1) as in the opposite direction (correlation = -1), however in high wind we can see that there is much more chance that the currents are aligned with the wind.\n",
    "\n",
    "\n",
    "To understand this relationship better we want to understand how much the wind nudges the current in its direction. If we bin the wind speeds then collect all the correlation samples in each bin then we can see if they average to zero (indicating that there is no relationship between the wind and current) or there is average alignment. "
   ]
  },
  {
   "cell_type": "code",
   "execution_count": null,
   "metadata": {},
   "outputs": [],
   "source": [
    "fig, ax1 = plt.subplots()\n",
    "fig.set_size_inches(8, 5)\n",
    "\n",
    "ax1.set_xlabel('Wind speed (m/s)')\n",
    "ax1.set_ylabel('Wind-current correlation')\n",
    "\n",
    "wind = davies[\"windmag\"]\n",
    "current = davies[\"windcurrentcorr\"]\n",
    "bin_means, bin_edges, binnumber = stats.binned_statistic(wind, current, 'mean', bins=20)\n",
    "ax1.hlines(bin_means, bin_edges[:-1], bin_edges[1:], colors='tab:red', lw=5,\n",
    "           label='Davies Reef')\n",
    "\n",
    "\n",
    "wind = myrmidon[\"windmag\"]\n",
    "current = myrmidon[\"windcurrentcorr\"]\n",
    "bin_means, bin_edges, binnumber = stats.binned_statistic(wind, current, 'mean', bins=20)\n",
    "ax1.hlines(bin_means, bin_edges[:-1], bin_edges[1:], colors='tab:blue', lw=5,\n",
    "           label='Myrmidon Reef')\n",
    "\n",
    "fig.legend(loc='lower left', bbox_to_anchor=(0.75, 0.1))\n",
    "plt.title('Mean correlation between wind and surface current (hourly data, 2019)',fontsize=11)\n",
    "fig.tight_layout()\n",
    "\n",
    "plt.show()\n",
    "fig.clear()\n",
    "plt.close(fig)\n",
    "plt.clf()"
   ]
  },
  {
   "cell_type": "markdown",
   "metadata": {},
   "source": [
    "From this we can see that for wind speeds below 8 m/s the surface current direction is unrelated to the wind. Above this wind speed the surface current is increasingly determined by the direction of the wind. By the time the wind is 16 m/s the direction of the surface current is dominated by the wind direction.\n",
    "\n",
    "*Note: It should be remembered that this analysis is based on the eReefs Hydrodynamic model and as such is not based on real data. The eReefs model has however been tuned to accurately capture the flow dynamics of the GBR and so we would expect the estimates from this analysis to be approximately correct.*"
   ]
  },
  {
   "cell_type": "code",
   "execution_count": null,
   "metadata": {},
   "outputs": [],
   "source": []
  }
 ],
 "metadata": {
  "kernelspec": {
   "display_name": "Python 3",
   "language": "python",
   "name": "python3"
  },
  "language_info": {
   "codemirror_mode": {
    "name": "ipython",
    "version": 3
   },
   "file_extension": ".py",
   "mimetype": "text/x-python",
   "name": "python",
   "nbconvert_exporter": "python",
   "pygments_lexer": "ipython3",
   "version": "3.7.3"
  }
 },
 "nbformat": 4,
 "nbformat_minor": 4
}
