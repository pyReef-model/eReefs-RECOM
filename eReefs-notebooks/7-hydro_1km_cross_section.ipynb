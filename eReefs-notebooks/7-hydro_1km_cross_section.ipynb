{
 "cells": [
  {
   "cell_type": "markdown",
   "metadata": {
    "slideshow": {
     "slide_type": "slide"
    }
   },
   "source": [
    "<img src=\"figs/1km_Lat11_vel.gif\">\n",
    "\n",
    "# eReefs hydrodynamics cross section for GBR 1km model"
   ]
  },
  {
   "cell_type": "markdown",
   "metadata": {
    "slideshow": {
     "slide_type": "slide"
    }
   },
   "source": [
    "## Load the required Python libraries\n",
    "\n",
    "First of all, load the necessary libraries."
   ]
  },
  {
   "cell_type": "code",
   "execution_count": null,
   "metadata": {
    "slideshow": {
     "slide_type": "-"
    }
   },
   "outputs": [],
   "source": [
    "import os\n",
    "import numpy as np\n",
    "\n",
    "import datetime as dt\n",
    "\n",
    "import netCDF4\n",
    "from netCDF4 import Dataset, num2date\n",
    "\n",
    "from pylab import *\n",
    "import matplotlib.ticker as mticker\n",
    "import matplotlib.tri as triangle \n",
    "from matplotlib import pyplot as plt, animation\n",
    "\n",
    "import cartopy.crs as ccrs\n",
    "import cartopy.feature as cfeature\n",
    "from cartopy.mpl.gridliner import LONGITUDE_FORMATTER, LATITUDE_FORMATTER\n",
    "\n",
    "import cmocean\n",
    "\n",
    "import cartopy\n",
    "import cartopy.crs as ccrs\n",
    "cartopy.config['data_dir'] = os.getenv('CARTOPY_DIR', cartopy.config.get('data_dir'))\n",
    "\n",
    "from IPython.display import HTML, display\n",
    "\n",
    "# display plots in SVG format\n",
    "%config InlineBackend.figure_format = 'svg'\n",
    "%matplotlib inline"
   ]
  },
  {
   "cell_type": "markdown",
   "metadata": {
    "slideshow": {
     "slide_type": "slide"
    }
   },
   "source": [
    "## Define which data to be plotted.\n",
    "\n",
    "In this section we define which data we want to read and plot.\n",
    "\n",
    "- **inputFile**\n",
    "  The netCDF input file. This can either be a downloaded file (see [How to manually download derived data from THREDDS](http://ereefs.aims.local/ereefs-aims/help/how-to-manually-download-derived-data)) or a  OPeNDAP URL from the [AIMS THREDDS server](http://thredds.ereefs.aims.gov.au/thredds/catalog.html). For this tutorial we are using the OPeNDAP URL.\n",
    "- **selectedVariable**\n",
    "  The name of the variable in the netCDF file.\n",
    "- **selectedTimeIndex**\n",
    "  The time slice in the netCDF file. Note the index starts with 0. For example, in the netCDF file, the time steps are \"days\". This means if you select `selectedTimeIndex=1` it refers to the second day in the netCDF file.\n",
    "- **selectedDepthIndex**\n",
    "  The depth slice in the netCDF file. Note the index starts with 0. See the following table for a mapping of index to value:"
   ]
  },
  {
   "cell_type": "markdown",
   "metadata": {
    "slideshow": {
     "slide_type": "subslide"
    }
   },
   "source": [
    "\n",
    "| Index (k) | Hydrodynamic 1km model | Hydrodynamic and BioGeoChemical 4km model |\n",
    "| -: | -: | -: |\n",
    "| 0 | -140.00 m | -145.00 m |\n",
    "| 1 | -120.00 m | -120.00 m |\n",
    "| 2 | -103.00 m | -103.00 m |\n",
    "| 3 | -88.00 m | -88.00 m |\n",
    "| 4 | -73.00 m | -73.00 m |\n",
    "| 5 | -60.00 m | -60.00 m |\n",
    "| 6 | -49.00 m | -49.00 m |\n",
    "| 7 | -39.50 m |-39.50 m |\n",
    "| 8 | -31.00 m | -31.00 m |\n",
    "| 9 | -24.00 m | -23.75 m |\n",
    "| 10 | -18.00 m | -17.75 m |\n",
    "| 11 | -13.00 m | -12.75 m |\n",
    "| 12 | -9.00 m | -8.80 m |\n",
    "| 13 | -5.25 m | -5.55 m |\n",
    "| 14 | -2.35 m | -3.00 m |\n",
    "| 15 | -0.50 m | -1.50 m |\n",
    "| 16 | n/a | -0.50 m |"
   ]
  },
  {
   "cell_type": "markdown",
   "metadata": {
    "slideshow": {
     "slide_type": "slide"
    }
   },
   "source": [
    "# Connect to the OpeNDAP endpoint for a specified month. \n",
    "\n",
    "We query the server based on the OPeNDAP URL for a specific file \"EREEFS_AIMS-CSIRO_gbr1_2.0_hydro_daily-daily--YYYY-MM-DD.nc\". \n",
    "\n",
    "\n",
    "- **gbr1**: we use the Hydrodynamic 1km model and daily data for the month specified"
   ]
  },
  {
   "cell_type": "code",
   "execution_count": null,
   "metadata": {},
   "outputs": [],
   "source": [
    "day = 1\n",
    "month = 3\n",
    "year = 2020\n",
    "\n",
    "netCDF_datestr = str(year)+'-'+format(month, '02')+'-'+format(day, '02')\n",
    "print('File chosen time interval:',netCDF_datestr)\n",
    "\n",
    "inputFile = \"http://thredds.ereefs.aims.gov.au/thredds/dodsC/s3://aims-ereefs-public-prod/derived/ncaggregate/ereefs/gbr1_2.0/daily-daily/EREEFS_AIMS-CSIRO_gbr1_2.0_hydro_daily-daily-\"+netCDF_datestr+\".nc\""
   ]
  },
  {
   "cell_type": "markdown",
   "metadata": {},
   "source": [
    "We now load the dataset within the Jupyter environment..."
   ]
  },
  {
   "cell_type": "code",
   "execution_count": null,
   "metadata": {},
   "outputs": [],
   "source": [
    "nc_data = Dataset(inputFile, 'r')\n",
    "\n",
    "print('Get the list of variable in the file:')\n",
    "print(list(nc_data.variables.keys()))\n",
    "\n",
    "ncdata = nc_data.variables"
   ]
  },
  {
   "cell_type": "markdown",
   "metadata": {
    "slideshow": {
     "slide_type": "subslide"
    }
   },
   "source": [
    "To get information for a specific variables, we can use the following:"
   ]
  },
  {
   "cell_type": "code",
   "execution_count": null,
   "metadata": {},
   "outputs": [],
   "source": [
    "ncdata['mean_cur']"
   ]
  },
  {
   "cell_type": "code",
   "execution_count": null,
   "metadata": {},
   "outputs": [],
   "source": [
    "ncdata['mean_cur'].standard_name"
   ]
  },
  {
   "cell_type": "code",
   "execution_count": null,
   "metadata": {},
   "outputs": [],
   "source": [
    "ncdata['mean_cur'].units"
   ]
  },
  {
   "cell_type": "markdown",
   "metadata": {
    "slideshow": {
     "slide_type": "slide"
    }
   },
   "source": [
    "# Load variables\n",
    "\n",
    "We then load the file dataset in Jupyter"
   ]
  },
  {
   "cell_type": "code",
   "execution_count": null,
   "metadata": {},
   "outputs": [],
   "source": [
    "# Starting with the spatial domain\n",
    "lat = ncdata['latitude'][:].filled(fill_value=0.)\n",
    "lon = ncdata['longitude'][:].filled(fill_value=0.)\n",
    "\n",
    "print('eReefs model spatial extent:\\n')\n",
    "print(' - Longitudinal extent:',lon.min(),lon.max())\n",
    "print(' - Latitudinal extent:',lat.min(),lat.max())"
   ]
  },
  {
   "cell_type": "code",
   "execution_count": null,
   "metadata": {},
   "outputs": [],
   "source": [
    "# Get time span of the dataset\n",
    "time_var = ncdata['time']\n",
    "\n",
    "# Starting time\n",
    "dtime = netCDF4.num2date(time_var[0],time_var.units)\n",
    "daystr = dtime.strftime('%Y-%b-%d %H:%M')\n",
    "print(' - start time: ',daystr,'\\n')\n",
    "\n",
    "# Ending time\n",
    "dtime = netCDF4.num2date(time_var[-1],time_var.units)\n",
    "daystr = dtime.strftime('%Y-%b-%d %H:%M')\n",
    "print(' - end time: ',daystr,'\\n')\n",
    "\n",
    "ntime = len(time_var)\n",
    "\n",
    "print(' - Number of time steps',ntime,'\\n')"
   ]
  },
  {
   "cell_type": "code",
   "execution_count": null,
   "metadata": {
    "slideshow": {
     "slide_type": "subslide"
    }
   },
   "outputs": [],
   "source": [
    "# Number of vetical points along the z-coordinate model\n",
    "zc = ncdata['zc'][:].filled(fill_value=0.)\n",
    "nlay = len(zc)\n",
    "\n",
    "print('Number of vertical layers',nlay)\n",
    "\n",
    "for k in range(nlay):\n",
    "    print(f'  + vertical layer {k} is at {zc[k]} m')"
   ]
  },
  {
   "cell_type": "markdown",
   "metadata": {},
   "source": [
    "# Cross section\n",
    "\n",
    "Let's make a cross section along the latitude 11 S. \n",
    "\n",
    "The AIMS dataset has been resample on a regular grid, so first we find the closest point to the desired latitude. "
   ]
  },
  {
   "cell_type": "code",
   "execution_count": null,
   "metadata": {},
   "outputs": [],
   "source": [
    "def find_nearest(array, value):\n",
    "    '''\n",
    "    Find index of nearest value in a numpy array\n",
    "    '''\n",
    "    \n",
    "    array = np.asarray(array)\n",
    "    idx = (np.abs(array - value)).argmin()\n",
    "    \n",
    "    return idx"
   ]
  },
  {
   "cell_type": "markdown",
   "metadata": {},
   "source": [
    "We will then extract all the point along this latitude:"
   ]
  },
  {
   "cell_type": "code",
   "execution_count": null,
   "metadata": {},
   "outputs": [],
   "source": [
    "def eReefs_cross_data(dataname, latID=None, lonID=None):\n",
    "    \n",
    "    '''\n",
    "    This function extracts specified dataset along a latitude or longitude.\n",
    "    \n",
    "    args:\n",
    "    - dataname: specified variable name \n",
    "    - latID: latitudinal index\n",
    "    - lonID: longitudinal index\n",
    "    '''\n",
    "    \n",
    "    # Get data\n",
    "    if latID is not None:\n",
    "        data = ncdata[dataname][:, :, latID, :]\n",
    "    elif lonID is not None:\n",
    "        data = ncdata[dataname][:, :, :, lonID]\n",
    "    \n",
    "    return data"
   ]
  },
  {
   "cell_type": "markdown",
   "metadata": {},
   "source": [
    "Now let's start run this function..."
   ]
  },
  {
   "cell_type": "code",
   "execution_count": null,
   "metadata": {},
   "outputs": [],
   "source": [
    "selectedLatIndex = find_nearest(lat,-11.)\n",
    "\n",
    "selectedVariable = 'mean_cur' \n",
    "currLat = eReefs_cross_data(selectedVariable, selectedLatIndex, None)"
   ]
  },
  {
   "cell_type": "markdown",
   "metadata": {},
   "source": [
    "We then define the plotting function:"
   ]
  },
  {
   "cell_type": "code",
   "execution_count": null,
   "metadata": {},
   "outputs": [],
   "source": [
    "def plot_cross_section(tstep, xdata, ydata, xmin, xmax, dmin, dmax, color, size, fname, show=True):\n",
    "\n",
    "    fig = plt.figure(figsize=size, facecolor='w', edgecolor='k')\n",
    "\n",
    "    ax = plt.axes()\n",
    "    plt.xlabel('Cross-section (degree)')\n",
    "    plt.ylabel('Depth (m)')\n",
    "\n",
    "    plt.xlim(xmin, xmax)\n",
    "    plt.ylim(zc.min(), zc.max())\n",
    "\n",
    "    cm = plt.pcolormesh(xdata, zc, ydata[0,:,:],  \n",
    "                   cmap = color,  \n",
    "                   vmin = dmin,  \n",
    "                   vmax = dmax, \n",
    "                   edgecolors = 'face', \n",
    "                   shading ='flat') \n",
    "\n",
    "    dtime = netCDF4.num2date(time_var[0],time_var.units)\n",
    "    daystr = dtime.strftime('%Y-%b-%d %H:%M')\n",
    "    plt.title(ncdata[selectedVariable].short_name+', %s UTC+10' % (daystr), fontsize=11);\n",
    "\n",
    "    # Color bar\n",
    "    gca().patch.set_facecolor('1')\n",
    "    cbar = fig.colorbar(cm, ax=ax, fraction=0.01, pad=0.025)\n",
    "    cbar.set_label(ncdata[selectedVariable].units, rotation=90, labelpad=5, fontsize=10)\n",
    "    cbar.ax.tick_params(labelsize=8)\n",
    "    \n",
    "    # Get z-coordinate lines\n",
    "    for k in range(len(zc)):\n",
    "        plt.plot([xmin, xmax],[zc[k],zc[k]],lw=0.5,c='k',alpha=0.25)\n",
    "        \n",
    "    \n",
    "    if show:\n",
    "        plt.savefig(f\"{fname}_cross_time{tstep:04}.png\",dpi=300, \n",
    "                bbox_inches='tight')\n",
    "        plt.tight_layout()\n",
    "        plt.show()\n",
    "    else:\n",
    "        plt.savefig(f\"{fname}_cross_time{tstep:04}.png\",dpi=300, \n",
    "                bbox_inches='tight')\n",
    "\n",
    "    fig.clear()\n",
    "    plt.close(fig)\n",
    "    plt.clf()\n",
    "\n",
    "    return\n",
    "\n",
    "color = cmocean.cm.speed\n",
    "fname = '1km_lat11'\n",
    "xmin = lon.min() \n",
    "xmax = 144.6\n",
    "size = (9,2)\n",
    "\n",
    "dmin = 0.\n",
    "dmax = 1.5\n",
    "\n",
    "plot_cross_section(0, lon, currLat, xmin, xmax, dmin, dmax, color, size, fname, show=True)"
   ]
  },
  {
   "cell_type": "markdown",
   "metadata": {},
   "source": [
    "# Looping over time step\n",
    "\n",
    "The AIMS server for the GBR 1k model only provide daily files. If one want to look at 1 month interval we will have to open each file individually..."
   ]
  },
  {
   "cell_type": "code",
   "execution_count": null,
   "metadata": {},
   "outputs": [],
   "source": [
    "color = cmocean.cm.speed\n",
    "fname = '1km_lat11'\n",
    "xmin = lon.min() \n",
    "xmax = 144.6\n",
    "size = (9,2)\n",
    "\n",
    "dmin = 0.\n",
    "dmax = 1.5\n",
    "\n",
    "selectedVariable = 'mean_cur' "
   ]
  },
  {
   "cell_type": "code",
   "execution_count": null,
   "metadata": {},
   "outputs": [],
   "source": [
    "# Define starting and ending date of the netcdf file we want to load \n",
    "start_date = dt.date(2020, 3, 1)\n",
    "end_date = dt.date(2020, 4, 1)\n",
    "delta = relativedelta(days=+1)\n",
    "step = 0\n",
    "\n",
    "# Now perform a while loop to open the netcdf file and extract the relevant dataset for the site of interest\n",
    "while start_date <= end_date:\n",
    "    \n",
    "    # Read individual file from the OpeNDAP server\n",
    "    netCDF_datestr = str(start_date.year)+'-'+format(start_date.month, '02')+'-'+format(start_date.day, '02')\n",
    "    print('Processing time interval:',netCDF_datestr)\n",
    "    \n",
    "    inputFile = \"http://thredds.ereefs.aims.gov.au/thredds/dodsC/s3://aims-ereefs-public-prod/derived/ncaggregate/ereefs/gbr1_2.0/daily-daily/EREEFS_AIMS-CSIRO_gbr1_2.0_hydro_daily-daily-\"+netCDF_datestr+\".nc\"\n",
    "    start_date += delta    \n",
    "    nc_data = Dataset(inputFile, 'r')\n",
    "    ncdata = nc_data.variables\n",
    "    time_var = ncdata['time']\n",
    "    \n",
    "    dataLat = eReefs_cross_data(selectedVariable, selectedLatIndex, None)\n",
    "    \n",
    "    plot_cross_section(step, lon, dataLat, xmin, xmax, dmin, dmax, color, size, fname, show=False)\n",
    "    step += 1"
   ]
  },
  {
   "cell_type": "markdown",
   "metadata": {},
   "source": [
    "We can now create an animated gif for our 1km resolution cross section:"
   ]
  },
  {
   "cell_type": "code",
   "execution_count": null,
   "metadata": {},
   "outputs": [],
   "source": [
    "!convert -delay 100 1km_lat11_cross_time*.png 1km_Lat11_vel.gif"
   ]
  },
  {
   "cell_type": "code",
   "execution_count": null,
   "metadata": {},
   "outputs": [],
   "source": [
    "display(HTML(\"<img src='1km_Lat11_vel.gif' />\"))"
   ]
  },
  {
   "cell_type": "code",
   "execution_count": null,
   "metadata": {},
   "outputs": [],
   "source": []
  }
 ],
 "metadata": {
  "kernelspec": {
   "display_name": "Python 3",
   "language": "python",
   "name": "python3"
  },
  "language_info": {
   "codemirror_mode": {
    "name": "ipython",
    "version": 3
   },
   "file_extension": ".py",
   "mimetype": "text/x-python",
   "name": "python",
   "nbconvert_exporter": "python",
   "pygments_lexer": "ipython3",
   "version": "3.7.3"
  }
 },
 "nbformat": 4,
 "nbformat_minor": 4
}
