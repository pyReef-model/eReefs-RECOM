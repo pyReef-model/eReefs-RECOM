{
 "cells": [
  {
   "cell_type": "markdown",
   "metadata": {},
   "source": [
    "<img src='figs/CapricornCurrent.gif' />\n",
    "\n",
    "# eReefs hydrodynamics specific GBR area"
   ]
  },
  {
   "cell_type": "code",
   "execution_count": null,
   "metadata": {},
   "outputs": [],
   "source": [
    "import os\n",
    "import numpy as np\n",
    "\n",
    "import datetime as dt\n",
    "\n",
    "import netCDF4\n",
    "from netCDF4 import Dataset, num2date\n",
    "\n",
    "from pylab import *\n",
    "import matplotlib.ticker as mticker\n",
    "import matplotlib.tri as triangle \n",
    "from matplotlib import pyplot as plt, animation\n",
    "\n",
    "import cartopy.crs as ccrs\n",
    "import cartopy.feature as cfeature\n",
    "from cartopy.mpl.gridliner import LONGITUDE_FORMATTER, LATITUDE_FORMATTER\n",
    "\n",
    "import cmocean\n",
    "\n",
    "import cartopy\n",
    "import cartopy.crs as ccrs\n",
    "cartopy.config['data_dir'] = os.getenv('CARTOPY_DIR', cartopy.config.get('data_dir'))\n",
    "\n",
    "from IPython.display import HTML, display\n",
    "\n",
    "# display plots in SVG format\n",
    "%config InlineBackend.figure_format = 'svg'\n",
    "%matplotlib inline"
   ]
  },
  {
   "cell_type": "markdown",
   "metadata": {},
   "source": [
    "## Define which data to be plotted.\n",
    "\n",
    "In this section we define which data we want to read and plot.\n",
    "\n",
    "- **inputFile**\n",
    "  The netCDF input file. This can either be a downloaded file (see [How to manually download derived data from THREDDS](http://ereefs.aims.local/ereefs-aims/help/how-to-manually-download-derived-data)) or a  OPeNDAP URL from the [AIMS THREDDS server](http://thredds.ereefs.aims.gov.au/thredds/catalog.html). For this tutorial we are using the OPeNDAP URL.\n",
    "- **selectedVariable**\n",
    "  The name of the variable in the netCDF file.\n",
    "- **selectedTimeIndex**\n",
    "  The time slice in the netCDF file. Note the index starts with 0. For example, in the netCDF file, the time steps are \"days\". This means if you select `selectedTimeIndex=1` it refers to the second day in the netCDF file.\n",
    "- **selectedDepthIndex**\n",
    "  The depth slice in the netCDF file. Note the index starts with 0. "
   ]
  },
  {
   "cell_type": "markdown",
   "metadata": {},
   "source": [
    "# Connect to the OpeNDAP endpoint for a specified month. \n",
    "\n",
    "We query the server based on the OPeNDAP URL for a specific file \"EREEFS_AIMS-CSIRO_gbr4_v2_hydro_daily-monthly-YYYY-MM.nc\". \n",
    "\n",
    "\n",
    "- **gbr4**: we use the Hydrodynamic 4km model and daily data for the month specified"
   ]
  },
  {
   "cell_type": "code",
   "execution_count": null,
   "metadata": {},
   "outputs": [],
   "source": [
    "month = 3\n",
    "year = 2020\n",
    "\n",
    "netCDF_datestr = str(year)+'-'+format(month, '02')\n",
    "print('File chosen time interval:',netCDF_datestr)\n",
    "\n",
    "inputFile = \"http://thredds.ereefs.aims.gov.au/thredds/dodsC/s3://aims-ereefs-public-prod/derived/ncaggregate/ereefs/gbr4_v2/daily-monthly/EREEFS_AIMS-CSIRO_gbr4_v2_hydro_daily-monthly-\"+netCDF_datestr+\".nc\""
   ]
  },
  {
   "cell_type": "markdown",
   "metadata": {},
   "source": [
    "We now load the dataset within the Jupyter environment..."
   ]
  },
  {
   "cell_type": "code",
   "execution_count": null,
   "metadata": {},
   "outputs": [],
   "source": [
    "nc_data = Dataset(inputFile, 'r')\n",
    "\n",
    "print('Get the list of variable in the file:')\n",
    "print(list(nc_data.variables.keys()))\n",
    "\n",
    "ncdata = nc_data.variables"
   ]
  },
  {
   "cell_type": "markdown",
   "metadata": {},
   "source": [
    "To get information for a specific variables, we can use the following:"
   ]
  },
  {
   "cell_type": "code",
   "execution_count": null,
   "metadata": {},
   "outputs": [],
   "source": [
    "ncdata['mean_cur']"
   ]
  },
  {
   "cell_type": "code",
   "execution_count": null,
   "metadata": {},
   "outputs": [],
   "source": [
    "ncdata['mean_cur'].standard_name"
   ]
  },
  {
   "cell_type": "code",
   "execution_count": null,
   "metadata": {},
   "outputs": [],
   "source": [
    "ncdata['mean_cur'].units"
   ]
  },
  {
   "cell_type": "markdown",
   "metadata": {},
   "source": [
    "# Load variables\n",
    "\n",
    "We then load the file dataset in Jupyter"
   ]
  },
  {
   "cell_type": "code",
   "execution_count": null,
   "metadata": {},
   "outputs": [],
   "source": [
    "# Starting with the spatial domain\n",
    "lat = ncdata['latitude'][:].filled(fill_value=0.)\n",
    "lon = ncdata['longitude'][:].filled(fill_value=0.)\n",
    "\n",
    "print('eReefs model spatial extent:\\n')\n",
    "print(' - Longitudinal extent:',lon.min(),lon.max())\n",
    "print(' - Latitudinal extent:',lat.min(),lat.max())"
   ]
  },
  {
   "cell_type": "code",
   "execution_count": null,
   "metadata": {},
   "outputs": [],
   "source": [
    "# Get time span of the dataset\n",
    "time_var = ncdata['time']\n",
    "\n",
    "# Starting time\n",
    "dtime = netCDF4.num2date(time_var[0],time_var.units)\n",
    "daystr = dtime.strftime('%Y-%b-%d %H:%M')\n",
    "print(' - start time: ',daystr,'\\n')\n",
    "\n",
    "# Ending time\n",
    "dtime = netCDF4.num2date(time_var[-1],time_var.units)\n",
    "daystr = dtime.strftime('%Y-%b-%d %H:%M')\n",
    "print(' - end time: ',daystr,'\\n')\n",
    "\n",
    "ntime = len(time_var)\n",
    "\n",
    "print(' - Number of time steps',ntime,'\\n')"
   ]
  },
  {
   "cell_type": "code",
   "execution_count": null,
   "metadata": {},
   "outputs": [],
   "source": [
    "# Number of vetical points along the z-coordinate model\n",
    "zc = ncdata['zc'][:].filled(fill_value=0.)\n",
    "nlay = len(zc)\n",
    "\n",
    "print('Number of vertical layers',nlay)\n",
    "\n",
    "for k in range(nlay):\n",
    "    print(f'  + vertical layer {k} is at {zc[k]} m')"
   ]
  },
  {
   "cell_type": "markdown",
   "metadata": {},
   "source": [
    "# Meshing dataset for visualisation\n",
    "\n",
    "To be able to visualise the variables on a map we first have to use the longitude and latidude values to mesh. \n",
    "\n",
    "Here we will build a triangular grid based on the Dataset coordinates (using the *triangle.Triangulation* from the **Matplotlib** library)."
   ]
  },
  {
   "cell_type": "code",
   "execution_count": null,
   "metadata": {},
   "outputs": [],
   "source": [
    "if len(lat.flatten()) == len(lon.flatten()):\n",
    "    meshtri = triangle.Triangulation(lon.flatten(),lat.flatten())\n",
    "else:\n",
    "    loni, lati = np.meshgrid(lon, lat)\n",
    "    lonlati = np.dstack([loni.flatten(), lati.flatten()])[0]\n",
    "    meshtri = triangle.Triangulation(loni.flatten(),lati.flatten())"
   ]
  },
  {
   "cell_type": "markdown",
   "metadata": {},
   "source": [
    "In this notebook, we will evaluate hydrodynamic conditions on a specific area. Here we focus on the **Capricorn Bunker Group** (Southern GBR, around One Tree Reef). The region extent is set with:\n",
    "\n",
    "- lon min/max:  150.4/152.6\n",
    "- lat min/max:  -24.1/-23.1"
   ]
  },
  {
   "cell_type": "code",
   "execution_count": null,
   "metadata": {},
   "outputs": [],
   "source": [
    "latExtent = [-24.1,-23.1]\n",
    "lonExtent = [150.4,152.6]"
   ]
  },
  {
   "cell_type": "markdown",
   "metadata": {},
   "source": [
    "Now we will use the function **eReefs_Area_Model** below to plot the different variables at specific time step and depth for the region of interest."
   ]
  },
  {
   "cell_type": "code",
   "execution_count": null,
   "metadata": {},
   "outputs": [],
   "source": [
    "def find_nearest(array, value):\n",
    "    '''\n",
    "    Find index of nearest value in a numpy array\n",
    "    '''\n",
    "    \n",
    "    array = np.asarray(array)\n",
    "    idx = (np.abs(array - value)).argmin()\n",
    "    \n",
    "    return idx\n",
    "\n",
    "\n",
    "def eReefs_Area_Model(tstep, depth, lonExtent, latExtent, dataname, \n",
    "                      datalvl, color, size, fname, vecsample, vecscale,\n",
    "                      veclenght, show=False, vecPlot=False):\n",
    "    \n",
    "    '''\n",
    "    This function plots for a specified time index and depth the value of a variable within a defined region based on the \n",
    "    eReefs netCDF file.\n",
    "    \n",
    "    args:\n",
    "    - tstep: specified time index\n",
    "    - depth: specified depth layer\n",
    "    - lonExtent: region longitudinal range specified as a list [min,max] \n",
    "    - latExtent: region latitudinal range specified as a list [min,max] \n",
    "    - dataname: specified variable name \n",
    "    - datalvl: range of the variable values specified as a list [min,max] \n",
    "    - color: colormap to use for the plot (here one can use the cmocean library: https://matplotlib.org/cmocean/#installation)\n",
    "    - size: figure size  \n",
    "    - fname: figure name when saved on disk, it is worth noting that the specified time index and depth layer will be automatically added\n",
    "    - vecsample: sampling on velocity arrows to plot on the maps when velocity verctor are used\n",
    "    - vecscale: scaling velocity arrows on the maps when velocity verctor are used\n",
    "    - veclenght: lenght of the reference vector (in m/s)\n",
    "    - show: set to True when the map is shown in the jupyter environment directly \n",
    "    - vecPlot: set to True when the current flow vector are plotted\n",
    "    '''\n",
    "    \n",
    "    cmap = color\n",
    "    cmap.set_over('0')\n",
    "    cmap.set_under(cmap(0))\n",
    "\n",
    "    lonIDmin = find_nearest(lon, lonExtent[0])\n",
    "    lonIDmax = find_nearest(lon, lonExtent[1])\n",
    "\n",
    "    latIDmin = find_nearest(lat, latExtent[0])\n",
    "    latIDmax = find_nearest(lat, latExtent[1])\n",
    "\n",
    "    # Get data\n",
    "    data = ncdata[dataname][tstep, depth, :,:]\n",
    "    data[np.isnan(data)] = 1000\n",
    "    levels = np.arange(datalvl[0],datalvl[1],0.05)\n",
    "    \n",
    "    fig = plt.figure(figsize=size, facecolor='w', edgecolor='k')\n",
    "\n",
    "    ax = plt.axes(projection=ccrs.Mercator()) #projection=ccrs.PlateCarree())\n",
    "    ax.set_extent([lonExtent[0], lonExtent[1], latExtent[1], latExtent[0]], ccrs.PlateCarree())\n",
    "\n",
    "    cf = plt.tricontourf(meshtri, data.flatten(), \n",
    "                transform=ccrs.PlateCarree(), \n",
    "                levels=levels,\n",
    "                cmap=cmap,\n",
    "                extend='min')\n",
    "\n",
    "    # Plot velocity arrows \n",
    "    if vecPlot:\n",
    "        u = ncdata['u'][tstep, depth, :,:].filled(fill_value=0.)\n",
    "        v = ncdata['v'][tstep, depth, :,:].filled(fill_value=0.)\n",
    "        # find non zeros velocity points\n",
    "        ind = np.where(np.logical_and(data.flatten()>0,data.flatten()<1000))[0]\n",
    "        np.random.shuffle(ind)\n",
    "        Nvec = int(len(ind) / vecsample)\n",
    "        idv = ind[:Nvec]\n",
    "        Q = plt.quiver(loni.flatten()[idv],\n",
    "                       lati.flatten()[idv],\n",
    "                       u.flatten()[idv],\n",
    "                       v.flatten()[idv],\n",
    "                       transform=ccrs.PlateCarree(), \n",
    "                       scale=vecscale)\n",
    "\n",
    "        maxstr='%3.2f m/s' % veclenght\n",
    "        qk = plt.quiverkey(Q,1.06,0.,veclenght,maxstr,labelpos='S')\n",
    "\n",
    "\n",
    "    # Color bar\n",
    "    gca().patch.set_facecolor('1')\n",
    "    cbar = fig.colorbar(cf, ax=ax, fraction=0.02, pad=0.03)\n",
    "    cbar.set_label(ncdata[dataname].units, \n",
    "                   rotation=-90, labelpad=15, fontsize=10)\n",
    "    cbar.ax.tick_params(labelsize=8)\n",
    "\n",
    "    # Title\n",
    "    dtime = netCDF4.num2date(time_var[tstep],time_var.units)\n",
    "    daystr = dtime.strftime('%Y-%b-%d %H:%M')\n",
    "    plt.title(ncdata[dataname].short_name+', %s UTC+10' % (daystr), fontsize=11);\n",
    "\n",
    "    # Plot lat/lon grid \n",
    "    gl = ax.gridlines(crs=ccrs.PlateCarree(), draw_labels=True,\n",
    "                      linewidth=0.1, color='k', alpha=1, linestyle='--')\n",
    "    gl.top_labels = False\n",
    "    gl.right_labels = False\n",
    "    gl.xformatter = LONGITUDE_FORMATTER\n",
    "    gl.yformatter = LATITUDE_FORMATTER\n",
    "    gl.xlabel_style = {'size': 8}\n",
    "    gl.ylabel_style = {'size': 8} \n",
    "    \n",
    "    # Add map features\n",
    "    ax.add_feature(cfeature.NaturalEarthFeature('physical', 'land', '10m', \n",
    "                                                edgecolor='face', \n",
    "                                                facecolor='lightgray'))\n",
    "    ax.coastlines(linewidth=1)\n",
    "\n",
    "    if show:\n",
    "        plt.tight_layout()\n",
    "        plt.show()\n",
    "    else:   \n",
    "        plt.savefig(f\"{fname}_time{tstep:04}_zc{depth:04}.png\",dpi=300, \n",
    "                    bbox_inches='tight')\n",
    "\n",
    "    fig.clear()\n",
    "    plt.close(fig)\n",
    "    plt.clf()\n",
    "    \n",
    "    return"
   ]
  },
  {
   "cell_type": "markdown",
   "metadata": {},
   "source": [
    "Let's use the function. First we will check for a specific depth (here we chose the surface) each variable range:"
   ]
  },
  {
   "cell_type": "code",
   "execution_count": null,
   "metadata": {},
   "outputs": [],
   "source": [
    "selectedDepthIndex = -1 \n",
    "\n",
    "lonIDmin = find_nearest(lon, lonExtent[0])\n",
    "lonIDmax = find_nearest(lon, lonExtent[1])\n",
    "\n",
    "latIDmin = find_nearest(lat, latExtent[0])\n",
    "latIDmax = find_nearest(lat, latExtent[1])\n",
    "\n",
    "print('Dataset array indices for longitude and latitude containing the region:')\n",
    "print('  - indices for longitude: ',lonIDmin,lonIDmax)\n",
    "print('  - indices for latitude:  ',latIDmin,latIDmax)\n",
    "\n",
    "print(' ')\n",
    "print('Mean current range: ')\n",
    "print(np.nanmin(ncdata['mean_cur'][:, selectedDepthIndex, lonIDmin:lonIDmax, latIDmin:latIDmax]),\n",
    "      np.nanmax(ncdata['mean_cur'][:, selectedDepthIndex, lonIDmin:lonIDmax, latIDmin:latIDmax]))\n",
    "\n",
    "print(' ')\n",
    "print('Temperature range: ')\n",
    "print(np.nanmin(ncdata['temp'][:, selectedDepthIndex, lonIDmin:lonIDmax, latIDmin:latIDmax]),\n",
    "      np.nanmax(ncdata['temp'][:, selectedDepthIndex, lonIDmin:lonIDmax, latIDmin:latIDmax]))\n",
    "\n",
    "print(' ')\n",
    "print('Salinity range: ')\n",
    "print(np.nanmin(ncdata['salt'][:, selectedDepthIndex, lonIDmin:lonIDmax, latIDmin:latIDmax]),\n",
    "      np.nanmax(ncdata['salt'][:, selectedDepthIndex, lonIDmin:lonIDmax, latIDmin:latIDmax]))"
   ]
  },
  {
   "cell_type": "markdown",
   "metadata": {},
   "source": [
    "We will plot the mean current like this:"
   ]
  },
  {
   "cell_type": "code",
   "execution_count": null,
   "metadata": {},
   "outputs": [],
   "source": [
    "selectedTimeIndex = 1 \n",
    "selectedVariable = 'mean_cur' \n",
    "\n",
    "# Vector field mapping information\n",
    "veclenght = 0.5\n",
    "vecscale = 20\n",
    "vecsample = 5\n",
    "\n",
    "# Figure size\n",
    "size = (9, 8)\n",
    "\n",
    "# Used color\n",
    "color = cmocean.cm.speed\n",
    "\n",
    "# Variable range for the colorscale\n",
    "curlvl = [0.01,1.5]\n",
    "\n",
    "# Saved file name\n",
    "fname = 'CapricornCurrent'\n",
    "\n",
    "# We now call the funct\n",
    "eReefs_Area_Model(selectedTimeIndex, selectedDepthIndex, lonExtent, latExtent,\n",
    "                  selectedVariable, curlvl, color, size, fname, vecsample, vecscale,\n",
    "                  veclenght, show=True, vecPlot=True)"
   ]
  },
  {
   "cell_type": "markdown",
   "metadata": {},
   "source": [
    "We can use a loop to plot changes over time like this:"
   ]
  },
  {
   "cell_type": "code",
   "execution_count": null,
   "metadata": {},
   "outputs": [],
   "source": [
    "# Here we loop over the days with a 2 day increment\n",
    "for tstep in range(0,ntime,2): \n",
    "    \n",
    "    # Get time interval\n",
    "    dtime = netCDF4.num2date(time_var[tstep],time_var.units)\n",
    "    daystr = dtime.strftime('%Y-%b-%d %H:%M')\n",
    "    print('Processing map at time: ',daystr)\n",
    "    \n",
    "    # Run the plotting function\n",
    "    eReefs_Area_Model(tstep, selectedDepthIndex, lonExtent, latExtent,\n",
    "                  selectedVariable, curlvl, color, size, fname, vecsample, vecscale,\n",
    "                  veclenght, show=False, vecPlot=True)"
   ]
  },
  {
   "cell_type": "markdown",
   "metadata": {},
   "source": [
    "We can then use the following line to create an animated `gif` "
   ]
  },
  {
   "cell_type": "code",
   "execution_count": null,
   "metadata": {},
   "outputs": [],
   "source": [
    "!convert -delay 100 CapricornCurrent_time*_zc-001.png CapricornCurrent.gif"
   ]
  },
  {
   "cell_type": "markdown",
   "metadata": {},
   "source": [
    "It can then be displayed as:"
   ]
  },
  {
   "cell_type": "code",
   "execution_count": null,
   "metadata": {},
   "outputs": [],
   "source": [
    "display(HTML(\"<img src='CapricornCurrent.gif' />\"))"
   ]
  },
  {
   "cell_type": "markdown",
   "metadata": {},
   "source": [
    "Same can be done to analyse salinity and temperature\n",
    "\n",
    "### Temperature"
   ]
  },
  {
   "cell_type": "code",
   "execution_count": null,
   "metadata": {},
   "outputs": [],
   "source": [
    "selectedTimeIndex = 1 \n",
    "selectedVariable = 'temp' \n",
    "\n",
    "# Figure size\n",
    "size = (9, 8)\n",
    "\n",
    "# Used color\n",
    "color = cmocean.cm.thermal\n",
    "\n",
    "# Variable range for the colorscale\n",
    "templvl = [20,31]\n",
    "\n",
    "# Saved file name\n",
    "fname = 'CapricornTemp'\n",
    "\n",
    "# We now call the funct\n",
    "eReefs_Area_Model(selectedTimeIndex, selectedDepthIndex, lonExtent, latExtent,\n",
    "                  selectedVariable, templvl, color, size, fname, vecsample, vecscale,\n",
    "                  veclenght, show=True, vecPlot=False)"
   ]
  },
  {
   "cell_type": "code",
   "execution_count": null,
   "metadata": {},
   "outputs": [],
   "source": [
    "# Here we loop over the days with a 2 day increment\n",
    "for tstep in range(0,ntime,2): \n",
    "    \n",
    "    # Get time interval\n",
    "    dtime = netCDF4.num2date(time_var[tstep],time_var.units)\n",
    "    daystr = dtime.strftime('%Y-%b-%d %H:%M')\n",
    "    print('Processing map at time: ',daystr)\n",
    "    \n",
    "    # Run the plotting function\n",
    "    eReefs_Area_Model(tstep, selectedDepthIndex, lonExtent, latExtent,\n",
    "                  selectedVariable, templvl, color, size, fname, vecsample, vecscale,\n",
    "                  veclenght, show=False, vecPlot=False)"
   ]
  },
  {
   "cell_type": "code",
   "execution_count": null,
   "metadata": {},
   "outputs": [],
   "source": [
    "!convert -delay 100 CapricornTemp_time*_zc-001.png CapricornTemp.gif"
   ]
  },
  {
   "cell_type": "code",
   "execution_count": null,
   "metadata": {},
   "outputs": [],
   "source": [
    "display(HTML(\"<img src='CapricornTemp.gif' />\"))"
   ]
  },
  {
   "cell_type": "markdown",
   "metadata": {},
   "source": [
    "### Salinity"
   ]
  },
  {
   "cell_type": "code",
   "execution_count": null,
   "metadata": {},
   "outputs": [],
   "source": [
    "selectedTimeIndex = 1 \n",
    "selectedVariable = 'salt' \n",
    "\n",
    "# Figure size\n",
    "size = (9, 8)\n",
    "\n",
    "# Used color\n",
    "color = cmocean.cm.haline\n",
    "\n",
    "# Variable range for the colorscale\n",
    "saltlvl = [20,37]\n",
    "\n",
    "# Saved file name\n",
    "fname = 'CapricornSalt'\n",
    "\n",
    "# We now call the funct\n",
    "eReefs_Area_Model(selectedTimeIndex, selectedDepthIndex, lonExtent, latExtent,\n",
    "                  selectedVariable, saltlvl, color, size, fname, vecsample, vecscale,\n",
    "                  veclenght, show=True, vecPlot=False)"
   ]
  },
  {
   "cell_type": "code",
   "execution_count": null,
   "metadata": {},
   "outputs": [],
   "source": [
    "# Here we loop over the days with a 2 day increment\n",
    "for tstep in range(0,ntime,2): \n",
    "    \n",
    "    # Get time interval\n",
    "    dtime = netCDF4.num2date(time_var[tstep],time_var.units)\n",
    "    daystr = dtime.strftime('%Y-%b-%d %H:%M')\n",
    "    print('Processing map at time: ',daystr)\n",
    "    \n",
    "    # Run the plotting function\n",
    "    eReefs_Area_Model(tstep, selectedDepthIndex, lonExtent, latExtent,\n",
    "                  selectedVariable, saltlvl, color, size, fname, vecsample, vecscale,\n",
    "                  veclenght, show=False, vecPlot=False)"
   ]
  },
  {
   "cell_type": "code",
   "execution_count": null,
   "metadata": {},
   "outputs": [],
   "source": [
    "!convert -delay 100 CapricornSalt_time*_zc-001.png CapricornSalt.gif"
   ]
  },
  {
   "cell_type": "code",
   "execution_count": null,
   "metadata": {},
   "outputs": [],
   "source": [
    "display(HTML(\"<img src='CapricornSalt.gif' />\"))"
   ]
  },
  {
   "cell_type": "code",
   "execution_count": null,
   "metadata": {},
   "outputs": [],
   "source": []
  }
 ],
 "metadata": {
  "kernelspec": {
   "display_name": "Python 3",
   "language": "python",
   "name": "python3"
  },
  "language_info": {
   "codemirror_mode": {
    "name": "ipython",
    "version": 3
   },
   "file_extension": ".py",
   "mimetype": "text/x-python",
   "name": "python",
   "nbconvert_exporter": "python",
   "pygments_lexer": "ipython3",
   "version": "3.7.3"
  }
 },
 "nbformat": 4,
 "nbformat_minor": 4
}
